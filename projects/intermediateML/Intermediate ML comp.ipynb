{
 "cells": [
  {
   "cell_type": "code",
   "execution_count": 3,
   "id": "988fff02",
   "metadata": {},
   "outputs": [],
   "source": [
    "#!pip install category_encoders"
   ]
  },
  {
   "cell_type": "code",
   "execution_count": 4,
   "id": "9f2eb064",
   "metadata": {},
   "outputs": [],
   "source": [
    "import pandas as pd \n",
    "import numpy as np\n",
    "from sklearn.ensemble import RandomForestRegressor\n",
    "from sklearn.model_selection import train_test_split\n",
    "from sklearn.metrics import mean_squared_error\n",
    "from xgboost import XGBRegressor\n",
    "from sklearn.compose import ColumnTransformer\n",
    "from sklearn.pipeline import Pipeline\n",
    "from sklearn.impute import SimpleImputer\n",
    "from sklearn.preprocessing import OneHotEncoder\n",
    "from datetime import datetime\n",
    "from sklearn.decomposition import PCA\n",
    "from sklearn.cluster import KMeans\n",
    "from sklearn.model_selection import cross_val_score\n",
    "from category_encoders import MEstimateEncoder"
   ]
  },
  {
   "cell_type": "code",
   "execution_count": 5,
   "id": "2a12cf16",
   "metadata": {},
   "outputs": [
    {
     "name": "stdout",
     "output_type": "stream",
     "text": [
      "Index(['name', 'seller', 'price', 'vehicleType', 'yearOfRegistration',\n",
      "       'gearbox', 'powerPS', 'model', 'kilometer', 'monthOfRegistration',\n",
      "       'fuelType', 'brand', 'notRepairedDamage', 'dateCreated', 'nrOfPictures',\n",
      "       'postalCode'],\n",
      "      dtype='object')\n",
      "Index(['name', 'seller', 'vehicleType', 'yearOfRegistration', 'gearbox',\n",
      "       'powerPS', 'model', 'kilometer', 'monthOfRegistration', 'fuelType',\n",
      "       'brand', 'notRepairedDamage', 'dateCreated', 'nrOfPictures',\n",
      "       'postalCode'],\n",
      "      dtype='object')\n"
     ]
    }
   ],
   "source": [
    "train = pd.read_csv('train.csv')\n",
    "test = pd.read_csv('test.csv')\n",
    "\n",
    "print(train.columns)\n",
    "print(test.columns)"
   ]
  },
  {
   "cell_type": "code",
   "execution_count": 6,
   "id": "91cc4120",
   "metadata": {},
   "outputs": [
    {
     "data": {
      "text/html": [
       "<div>\n",
       "<style scoped>\n",
       "    .dataframe tbody tr th:only-of-type {\n",
       "        vertical-align: middle;\n",
       "    }\n",
       "\n",
       "    .dataframe tbody tr th {\n",
       "        vertical-align: top;\n",
       "    }\n",
       "\n",
       "    .dataframe thead th {\n",
       "        text-align: right;\n",
       "    }\n",
       "</style>\n",
       "<table border=\"1\" class=\"dataframe\">\n",
       "  <thead>\n",
       "    <tr style=\"text-align: right;\">\n",
       "      <th></th>\n",
       "      <th>name</th>\n",
       "      <th>seller</th>\n",
       "      <th>price</th>\n",
       "      <th>vehicleType</th>\n",
       "      <th>yearOfRegistration</th>\n",
       "      <th>gearbox</th>\n",
       "      <th>powerPS</th>\n",
       "      <th>model</th>\n",
       "      <th>kilometer</th>\n",
       "      <th>monthOfRegistration</th>\n",
       "      <th>fuelType</th>\n",
       "      <th>brand</th>\n",
       "      <th>notRepairedDamage</th>\n",
       "      <th>dateCreated</th>\n",
       "      <th>nrOfPictures</th>\n",
       "      <th>postalCode</th>\n",
       "    </tr>\n",
       "  </thead>\n",
       "  <tbody>\n",
       "    <tr>\n",
       "      <th>0</th>\n",
       "      <td>Opel_Astra_G_Cabrio</td>\n",
       "      <td>privat</td>\n",
       "      <td>3800</td>\n",
       "      <td>cabrio</td>\n",
       "      <td>2001</td>\n",
       "      <td>NaN</td>\n",
       "      <td>0</td>\n",
       "      <td>astra</td>\n",
       "      <td>150000</td>\n",
       "      <td>0</td>\n",
       "      <td>NaN</td>\n",
       "      <td>opel</td>\n",
       "      <td>nein</td>\n",
       "      <td>2016-03-08</td>\n",
       "      <td>0</td>\n",
       "      <td>26789</td>\n",
       "    </tr>\n",
       "    <tr>\n",
       "      <th>1</th>\n",
       "      <td>Alfa_Romeo_166_2.0_Twin_Spark_EFH_Klimaautomat...</td>\n",
       "      <td>privat</td>\n",
       "      <td>590</td>\n",
       "      <td>suv</td>\n",
       "      <td>2017</td>\n",
       "      <td>automatik</td>\n",
       "      <td>50</td>\n",
       "      <td>omega</td>\n",
       "      <td>150000</td>\n",
       "      <td>3</td>\n",
       "      <td>benzin</td>\n",
       "      <td>mercedes_benz</td>\n",
       "      <td>nein</td>\n",
       "      <td>2016-03-26</td>\n",
       "      <td>0</td>\n",
       "      <td>35516</td>\n",
       "    </tr>\n",
       "    <tr>\n",
       "      <th>2</th>\n",
       "      <td>BMW_525d</td>\n",
       "      <td>privat</td>\n",
       "      <td>4489</td>\n",
       "      <td>limousine</td>\n",
       "      <td>2002</td>\n",
       "      <td>automatik</td>\n",
       "      <td>163</td>\n",
       "      <td>5er</td>\n",
       "      <td>150000</td>\n",
       "      <td>2</td>\n",
       "      <td>diesel</td>\n",
       "      <td>bmw</td>\n",
       "      <td>nein</td>\n",
       "      <td>2016-04-05</td>\n",
       "      <td>0</td>\n",
       "      <td>56751</td>\n",
       "    </tr>\n",
       "    <tr>\n",
       "      <th>3</th>\n",
       "      <td>Volkswagen_Fox_1.2</td>\n",
       "      <td>privat</td>\n",
       "      <td>1400</td>\n",
       "      <td>kleinwagen</td>\n",
       "      <td>2005</td>\n",
       "      <td>manuell</td>\n",
       "      <td>54</td>\n",
       "      <td>fox</td>\n",
       "      <td>150000</td>\n",
       "      <td>10</td>\n",
       "      <td>benzin</td>\n",
       "      <td>volkswagen</td>\n",
       "      <td>nein</td>\n",
       "      <td>2016-03-16</td>\n",
       "      <td>0</td>\n",
       "      <td>47198</td>\n",
       "    </tr>\n",
       "    <tr>\n",
       "      <th>4</th>\n",
       "      <td>Mercedes_Benz_220_CDI</td>\n",
       "      <td>privat</td>\n",
       "      <td>9300</td>\n",
       "      <td>limousine</td>\n",
       "      <td>2005</td>\n",
       "      <td>manuell</td>\n",
       "      <td>150</td>\n",
       "      <td>andere</td>\n",
       "      <td>150000</td>\n",
       "      <td>2</td>\n",
       "      <td>diesel</td>\n",
       "      <td>mercedes_benz</td>\n",
       "      <td>nein</td>\n",
       "      <td>2016-03-11</td>\n",
       "      <td>0</td>\n",
       "      <td>94344</td>\n",
       "    </tr>\n",
       "  </tbody>\n",
       "</table>\n",
       "</div>"
      ],
      "text/plain": [
       "                                                name  seller  price  \\\n",
       "0                                Opel_Astra_G_Cabrio  privat   3800   \n",
       "1  Alfa_Romeo_166_2.0_Twin_Spark_EFH_Klimaautomat...  privat    590   \n",
       "2                                           BMW_525d  privat   4489   \n",
       "3                                 Volkswagen_Fox_1.2  privat   1400   \n",
       "4                              Mercedes_Benz_220_CDI  privat   9300   \n",
       "\n",
       "  vehicleType  yearOfRegistration    gearbox  powerPS   model  kilometer  \\\n",
       "0      cabrio                2001        NaN        0   astra     150000   \n",
       "1         suv                2017  automatik       50   omega     150000   \n",
       "2   limousine                2002  automatik      163     5er     150000   \n",
       "3  kleinwagen                2005    manuell       54     fox     150000   \n",
       "4   limousine                2005    manuell      150  andere     150000   \n",
       "\n",
       "   monthOfRegistration fuelType          brand notRepairedDamage dateCreated  \\\n",
       "0                    0      NaN           opel              nein  2016-03-08   \n",
       "1                    3   benzin  mercedes_benz              nein  2016-03-26   \n",
       "2                    2   diesel            bmw              nein  2016-04-05   \n",
       "3                   10   benzin     volkswagen              nein  2016-03-16   \n",
       "4                    2   diesel  mercedes_benz              nein  2016-03-11   \n",
       "\n",
       "   nrOfPictures  postalCode  \n",
       "0             0       26789  \n",
       "1             0       35516  \n",
       "2             0       56751  \n",
       "3             0       47198  \n",
       "4             0       94344  "
      ]
     },
     "execution_count": 6,
     "metadata": {},
     "output_type": "execute_result"
    }
   ],
   "source": [
    "train.head()"
   ]
  },
  {
   "cell_type": "code",
   "execution_count": 7,
   "id": "0dbd48f2",
   "metadata": {},
   "outputs": [
    {
     "data": {
      "text/html": [
       "<div>\n",
       "<style scoped>\n",
       "    .dataframe tbody tr th:only-of-type {\n",
       "        vertical-align: middle;\n",
       "    }\n",
       "\n",
       "    .dataframe tbody tr th {\n",
       "        vertical-align: top;\n",
       "    }\n",
       "\n",
       "    .dataframe thead th {\n",
       "        text-align: right;\n",
       "    }\n",
       "</style>\n",
       "<table border=\"1\" class=\"dataframe\">\n",
       "  <thead>\n",
       "    <tr style=\"text-align: right;\">\n",
       "      <th></th>\n",
       "      <th>name</th>\n",
       "      <th>seller</th>\n",
       "      <th>vehicleType</th>\n",
       "      <th>yearOfRegistration</th>\n",
       "      <th>gearbox</th>\n",
       "      <th>powerPS</th>\n",
       "      <th>model</th>\n",
       "      <th>kilometer</th>\n",
       "      <th>monthOfRegistration</th>\n",
       "      <th>fuelType</th>\n",
       "      <th>brand</th>\n",
       "      <th>notRepairedDamage</th>\n",
       "      <th>dateCreated</th>\n",
       "      <th>nrOfPictures</th>\n",
       "      <th>postalCode</th>\n",
       "    </tr>\n",
       "  </thead>\n",
       "  <tbody>\n",
       "    <tr>\n",
       "      <th>0</th>\n",
       "      <td>Peugeot_807_HDi_130_NAVTECH_ON_BOARD</td>\n",
       "      <td>privat</td>\n",
       "      <td>bus</td>\n",
       "      <td>2004</td>\n",
       "      <td>manuell</td>\n",
       "      <td>128</td>\n",
       "      <td>andere</td>\n",
       "      <td>150000</td>\n",
       "      <td>3</td>\n",
       "      <td>diesel</td>\n",
       "      <td>peugeot</td>\n",
       "      <td>nein</td>\n",
       "      <td>4/5/16</td>\n",
       "      <td>0</td>\n",
       "      <td>85764</td>\n",
       "    </tr>\n",
       "    <tr>\n",
       "      <th>1</th>\n",
       "      <td>Mercedes_C_200_Kompressor_Sportcoupe_zum_verka...</td>\n",
       "      <td>privat</td>\n",
       "      <td>coupe</td>\n",
       "      <td>2001</td>\n",
       "      <td>automatik</td>\n",
       "      <td>163</td>\n",
       "      <td>c_klasse</td>\n",
       "      <td>150000</td>\n",
       "      <td>5</td>\n",
       "      <td>benzin</td>\n",
       "      <td>mercedes_benz</td>\n",
       "      <td>NaN</td>\n",
       "      <td>3/8/16</td>\n",
       "      <td>0</td>\n",
       "      <td>21149</td>\n",
       "    </tr>\n",
       "    <tr>\n",
       "      <th>2</th>\n",
       "      <td>Volkswagen_Golf_VI_1.4_TSI_Comfortline</td>\n",
       "      <td>privat</td>\n",
       "      <td>limousine</td>\n",
       "      <td>2009</td>\n",
       "      <td>automatik</td>\n",
       "      <td>160</td>\n",
       "      <td>golf</td>\n",
       "      <td>30000</td>\n",
       "      <td>2</td>\n",
       "      <td>benzin</td>\n",
       "      <td>volkswagen</td>\n",
       "      <td>nein</td>\n",
       "      <td>3/21/16</td>\n",
       "      <td>0</td>\n",
       "      <td>58089</td>\n",
       "    </tr>\n",
       "    <tr>\n",
       "      <th>3</th>\n",
       "      <td>VW_Polo_9n_1.2l__Top_!!!</td>\n",
       "      <td>privat</td>\n",
       "      <td>kleinwagen</td>\n",
       "      <td>2003</td>\n",
       "      <td>manuell</td>\n",
       "      <td>64</td>\n",
       "      <td>polo</td>\n",
       "      <td>150000</td>\n",
       "      <td>5</td>\n",
       "      <td>benzin</td>\n",
       "      <td>volkswagen</td>\n",
       "      <td>nein</td>\n",
       "      <td>3/25/16</td>\n",
       "      <td>0</td>\n",
       "      <td>49685</td>\n",
       "    </tr>\n",
       "    <tr>\n",
       "      <th>4</th>\n",
       "      <td>Hyundai_Santa_Fe_2.0_CRDi_4WD_4WD_Edition+</td>\n",
       "      <td>privat</td>\n",
       "      <td>suv</td>\n",
       "      <td>2004</td>\n",
       "      <td>manuell</td>\n",
       "      <td>113</td>\n",
       "      <td>santa</td>\n",
       "      <td>150000</td>\n",
       "      <td>6</td>\n",
       "      <td>diesel</td>\n",
       "      <td>hyundai</td>\n",
       "      <td>nein</td>\n",
       "      <td>3/13/16</td>\n",
       "      <td>0</td>\n",
       "      <td>54472</td>\n",
       "    </tr>\n",
       "  </tbody>\n",
       "</table>\n",
       "</div>"
      ],
      "text/plain": [
       "                                                name  seller vehicleType  \\\n",
       "0               Peugeot_807_HDi_130_NAVTECH_ON_BOARD  privat         bus   \n",
       "1  Mercedes_C_200_Kompressor_Sportcoupe_zum_verka...  privat       coupe   \n",
       "2             Volkswagen_Golf_VI_1.4_TSI_Comfortline  privat   limousine   \n",
       "3                           VW_Polo_9n_1.2l__Top_!!!  privat  kleinwagen   \n",
       "4         Hyundai_Santa_Fe_2.0_CRDi_4WD_4WD_Edition+  privat         suv   \n",
       "\n",
       "   yearOfRegistration    gearbox  powerPS     model  kilometer  \\\n",
       "0                2004    manuell      128    andere     150000   \n",
       "1                2001  automatik      163  c_klasse     150000   \n",
       "2                2009  automatik      160      golf      30000   \n",
       "3                2003    manuell       64      polo     150000   \n",
       "4                2004    manuell      113     santa     150000   \n",
       "\n",
       "   monthOfRegistration fuelType          brand notRepairedDamage dateCreated  \\\n",
       "0                    3   diesel        peugeot              nein      4/5/16   \n",
       "1                    5   benzin  mercedes_benz               NaN      3/8/16   \n",
       "2                    2   benzin     volkswagen              nein     3/21/16   \n",
       "3                    5   benzin     volkswagen              nein     3/25/16   \n",
       "4                    6   diesel        hyundai              nein     3/13/16   \n",
       "\n",
       "   nrOfPictures  postalCode  \n",
       "0             0       85764  \n",
       "1             0       21149  \n",
       "2             0       58089  \n",
       "3             0       49685  \n",
       "4             0       54472  "
      ]
     },
     "execution_count": 7,
     "metadata": {},
     "output_type": "execute_result"
    }
   ],
   "source": [
    "test.head()"
   ]
  },
  {
   "cell_type": "code",
   "execution_count": 8,
   "id": "5dff6451",
   "metadata": {},
   "outputs": [],
   "source": [
    "x = train.drop(['price'], axis = 1)\n",
    "y = train.price"
   ]
  },
  {
   "cell_type": "code",
   "execution_count": 9,
   "id": "24c00ce2",
   "metadata": {},
   "outputs": [
    {
     "name": "stdout",
     "output_type": "stream",
     "text": [
      "Row x Cols of df:\n",
      "(70000, 15)\n",
      "Sum of NA in each col:\n",
      "vehicleType           6334\n",
      "gearbox               3188\n",
      "model                 3259\n",
      "fuelType              5432\n",
      "notRepairedDamage    12833\n",
      "dtype: int64\n"
     ]
    }
   ],
   "source": [
    "print('Row x Cols of df:')\n",
    "print(x.shape)\n",
    "\n",
    "#finding num missing\n",
    "print('Sum of NA in each col:')\n",
    "num_missing = x.isnull().sum()\n",
    "print(num_missing[num_missing>0])"
   ]
  },
  {
   "cell_type": "code",
   "execution_count": 10,
   "id": "655390eb",
   "metadata": {},
   "outputs": [
    {
     "name": "stdout",
     "output_type": "stream",
     "text": [
      "categorical variables\n",
      "['name', 'seller', 'vehicleType', 'gearbox', 'model', 'fuelType', 'brand', 'notRepairedDamage', 'dateCreated']\n"
     ]
    }
   ],
   "source": [
    "category = x.dtypes == 'object'\n",
    "categorical_cols = list(category[category].index)\n",
    "\n",
    "print('categorical variables')\n",
    "print(categorical_cols)"
   ]
  },
  {
   "cell_type": "code",
   "execution_count": 11,
   "id": "92c35e3b",
   "metadata": {},
   "outputs": [
    {
     "data": {
      "text/plain": [
       "[('seller', 1),\n",
       " ('gearbox', 2),\n",
       " ('notRepairedDamage', 2),\n",
       " ('fuelType', 7),\n",
       " ('vehicleType', 8),\n",
       " ('brand', 40),\n",
       " ('dateCreated', 78),\n",
       " ('model', 243),\n",
       " ('name', 50666)]"
      ]
     },
     "execution_count": 11,
     "metadata": {},
     "output_type": "execute_result"
    }
   ],
   "source": [
    "#find the num of unique entries in each categorical \n",
    "categorical_unique = list(map(lambda col: x[col].nunique(), categorical_cols))\n",
    "d = dict(zip(categorical_cols, categorical_unique))\n",
    "\n",
    "sorted(d.items(), key=lambda x: x[1])"
   ]
  },
  {
   "cell_type": "code",
   "execution_count": 12,
   "id": "8f85a484",
   "metadata": {},
   "outputs": [
    {
     "data": {
      "text/html": [
       "<div>\n",
       "<style scoped>\n",
       "    .dataframe tbody tr th:only-of-type {\n",
       "        vertical-align: middle;\n",
       "    }\n",
       "\n",
       "    .dataframe tbody tr th {\n",
       "        vertical-align: top;\n",
       "    }\n",
       "\n",
       "    .dataframe thead th {\n",
       "        text-align: right;\n",
       "    }\n",
       "</style>\n",
       "<table border=\"1\" class=\"dataframe\">\n",
       "  <thead>\n",
       "    <tr style=\"text-align: right;\">\n",
       "      <th></th>\n",
       "      <th>name</th>\n",
       "      <th>seller</th>\n",
       "      <th>vehicleType</th>\n",
       "      <th>yearOfRegistration</th>\n",
       "      <th>gearbox</th>\n",
       "      <th>powerPS</th>\n",
       "      <th>model</th>\n",
       "      <th>kilometer</th>\n",
       "      <th>monthOfRegistration</th>\n",
       "      <th>fuelType</th>\n",
       "      <th>brand</th>\n",
       "      <th>notRepairedDamage</th>\n",
       "      <th>dateCreated</th>\n",
       "      <th>nrOfPictures</th>\n",
       "      <th>postalCode</th>\n",
       "    </tr>\n",
       "  </thead>\n",
       "  <tbody>\n",
       "    <tr>\n",
       "      <th>0</th>\n",
       "      <td>Opel_Astra_G_Cabrio</td>\n",
       "      <td>privat</td>\n",
       "      <td>cabrio</td>\n",
       "      <td>2001</td>\n",
       "      <td>NaN</td>\n",
       "      <td>0</td>\n",
       "      <td>astra</td>\n",
       "      <td>150000</td>\n",
       "      <td>0</td>\n",
       "      <td>NaN</td>\n",
       "      <td>opel</td>\n",
       "      <td>nein</td>\n",
       "      <td>2016-03-08</td>\n",
       "      <td>0</td>\n",
       "      <td>26789</td>\n",
       "    </tr>\n",
       "    <tr>\n",
       "      <th>1</th>\n",
       "      <td>Alfa_Romeo_166_2.0_Twin_Spark_EFH_Klimaautomat...</td>\n",
       "      <td>privat</td>\n",
       "      <td>suv</td>\n",
       "      <td>2017</td>\n",
       "      <td>automatik</td>\n",
       "      <td>50</td>\n",
       "      <td>omega</td>\n",
       "      <td>150000</td>\n",
       "      <td>3</td>\n",
       "      <td>benzin</td>\n",
       "      <td>mercedes_benz</td>\n",
       "      <td>nein</td>\n",
       "      <td>2016-03-26</td>\n",
       "      <td>0</td>\n",
       "      <td>35516</td>\n",
       "    </tr>\n",
       "    <tr>\n",
       "      <th>2</th>\n",
       "      <td>BMW_525d</td>\n",
       "      <td>privat</td>\n",
       "      <td>limousine</td>\n",
       "      <td>2002</td>\n",
       "      <td>automatik</td>\n",
       "      <td>163</td>\n",
       "      <td>5er</td>\n",
       "      <td>150000</td>\n",
       "      <td>2</td>\n",
       "      <td>diesel</td>\n",
       "      <td>bmw</td>\n",
       "      <td>nein</td>\n",
       "      <td>2016-04-05</td>\n",
       "      <td>0</td>\n",
       "      <td>56751</td>\n",
       "    </tr>\n",
       "    <tr>\n",
       "      <th>3</th>\n",
       "      <td>Volkswagen_Fox_1.2</td>\n",
       "      <td>privat</td>\n",
       "      <td>kleinwagen</td>\n",
       "      <td>2005</td>\n",
       "      <td>manuell</td>\n",
       "      <td>54</td>\n",
       "      <td>fox</td>\n",
       "      <td>150000</td>\n",
       "      <td>10</td>\n",
       "      <td>benzin</td>\n",
       "      <td>volkswagen</td>\n",
       "      <td>nein</td>\n",
       "      <td>2016-03-16</td>\n",
       "      <td>0</td>\n",
       "      <td>47198</td>\n",
       "    </tr>\n",
       "    <tr>\n",
       "      <th>4</th>\n",
       "      <td>Mercedes_Benz_220_CDI</td>\n",
       "      <td>privat</td>\n",
       "      <td>limousine</td>\n",
       "      <td>2005</td>\n",
       "      <td>manuell</td>\n",
       "      <td>150</td>\n",
       "      <td>andere</td>\n",
       "      <td>150000</td>\n",
       "      <td>2</td>\n",
       "      <td>diesel</td>\n",
       "      <td>mercedes_benz</td>\n",
       "      <td>nein</td>\n",
       "      <td>2016-03-11</td>\n",
       "      <td>0</td>\n",
       "      <td>94344</td>\n",
       "    </tr>\n",
       "  </tbody>\n",
       "</table>\n",
       "</div>"
      ],
      "text/plain": [
       "                                                name  seller vehicleType  \\\n",
       "0                                Opel_Astra_G_Cabrio  privat      cabrio   \n",
       "1  Alfa_Romeo_166_2.0_Twin_Spark_EFH_Klimaautomat...  privat         suv   \n",
       "2                                           BMW_525d  privat   limousine   \n",
       "3                                 Volkswagen_Fox_1.2  privat  kleinwagen   \n",
       "4                              Mercedes_Benz_220_CDI  privat   limousine   \n",
       "\n",
       "   yearOfRegistration    gearbox  powerPS   model  kilometer  \\\n",
       "0                2001        NaN        0   astra     150000   \n",
       "1                2017  automatik       50   omega     150000   \n",
       "2                2002  automatik      163     5er     150000   \n",
       "3                2005    manuell       54     fox     150000   \n",
       "4                2005    manuell      150  andere     150000   \n",
       "\n",
       "   monthOfRegistration fuelType          brand notRepairedDamage dateCreated  \\\n",
       "0                    0      NaN           opel              nein  2016-03-08   \n",
       "1                    3   benzin  mercedes_benz              nein  2016-03-26   \n",
       "2                    2   diesel            bmw              nein  2016-04-05   \n",
       "3                   10   benzin     volkswagen              nein  2016-03-16   \n",
       "4                    2   diesel  mercedes_benz              nein  2016-03-11   \n",
       "\n",
       "   nrOfPictures  postalCode  \n",
       "0             0       26789  \n",
       "1             0       35516  \n",
       "2             0       56751  \n",
       "3             0       47198  \n",
       "4             0       94344  "
      ]
     },
     "execution_count": 12,
     "metadata": {},
     "output_type": "execute_result"
    }
   ],
   "source": [
    "x.head()"
   ]
  },
  {
   "cell_type": "code",
   "execution_count": 13,
   "id": "2410273e",
   "metadata": {},
   "outputs": [],
   "source": [
    "#seller: drop since one unique\n",
    "#model: drop\n",
    "#name: drop \n",
    "#notRepairedDamage: drop \n",
    "#gearbox, fuelType, vehicleType: impute and one hot\n",
    "\n",
    "\n",
    "#brand: ordinal encode?\n",
    "\n",
    "#dropping seller, model, name \n",
    "bad_cols = ['seller','name', 'nrOfPictures']\n",
    "#bad_cols1 = ['seller','name', 'nrOfPictures']\n",
    "\n",
    "x = x.drop(bad_cols, axis = 1)\n",
    "\n",
    "#good_cols = ['gearbox','fuelType','vehicleType']"
   ]
  },
  {
   "cell_type": "code",
   "execution_count": 14,
   "id": "cd4cba46",
   "metadata": {},
   "outputs": [],
   "source": [
    "#parsing dateCreated\n",
    "x['dateCreated_parsed'] = pd.to_datetime(x['dateCreated'], format='%Y-%m-%d')"
   ]
  },
  {
   "cell_type": "code",
   "execution_count": 15,
   "id": "78f84bd7",
   "metadata": {},
   "outputs": [
    {
     "data": {
      "text/plain": [
       "dtype('<M8[ns]')"
      ]
     },
     "execution_count": 15,
     "metadata": {},
     "output_type": "execute_result"
    }
   ],
   "source": [
    "x['dateCreated_parsed'].dtype"
   ]
  },
  {
   "cell_type": "code",
   "execution_count": 16,
   "id": "22b3de85",
   "metadata": {},
   "outputs": [],
   "source": [
    "#changing date into 3 separate columns of month, day, year as int\n",
    "x['date_month'] = x['dateCreated_parsed'].dt.month\n",
    "x['date_day'] = x['dateCreated_parsed'].dt.day\n",
    "x['date_year'] = x['dateCreated_parsed'].dt.year\n",
    "\n",
    "x = x.drop(['dateCreated','dateCreated_parsed'], axis = 1)"
   ]
  },
  {
   "cell_type": "code",
   "execution_count": 17,
   "id": "ab598fe8",
   "metadata": {},
   "outputs": [],
   "source": [
    "#x = x.drop(['brand'], axis = 1)"
   ]
  },
  {
   "cell_type": "code",
   "execution_count": 18,
   "id": "c84e4593",
   "metadata": {},
   "outputs": [],
   "source": [
    "#first split the training data using train test split \n",
    "x_train, x_test, y_train, y_test = train_test_split(x, y, train_size=0.8, test_size=0.2, random_state = 0)"
   ]
  },
  {
   "cell_type": "code",
   "execution_count": 19,
   "id": "6ac6eff3",
   "metadata": {},
   "outputs": [],
   "source": [
    "x_train1 = x_train.copy()\n",
    "x_test1 = x_test.copy()\n",
    "\n",
    "x_train = x_train.drop('model',axis=1)\n",
    "x_test = x_test.drop('model',axis=1)"
   ]
  },
  {
   "cell_type": "code",
   "execution_count": 20,
   "id": "1661fc46",
   "metadata": {},
   "outputs": [
    {
     "name": "stdout",
     "output_type": "stream",
     "text": [
      "Shape of x_train: \n",
      "(56000, 13)\n"
     ]
    }
   ],
   "source": [
    "print(\"Shape of x_train: \")\n",
    "print(x_train.shape)"
   ]
  },
  {
   "cell_type": "code",
   "execution_count": 21,
   "id": "3c348cae",
   "metadata": {},
   "outputs": [],
   "source": [
    "numerical_cols = [col for col in x_train.columns if x_train[col].dtype in ['int64','float64']]\n",
    "categorical_cols = [col for col in x_train.columns if x_train[col].dtype == 'object']\n",
    "\n",
    "all_cols = numerical_cols + categorical_cols\n",
    "\n",
    "x_train = x_train[all_cols]"
   ]
  },
  {
   "cell_type": "code",
   "execution_count": 22,
   "id": "b6f31c7a",
   "metadata": {},
   "outputs": [],
   "source": [
    "#manual OneHotEncoding\n",
    "OH_encoder = OneHotEncoder(handle_unknown='ignore', sparse = False)\n",
    "OH_cols_train = pd.DataFrame(OH_encoder.fit_transform(x_train[categorical_cols]))\n",
    "OH_cols_test = pd.DataFrame(OH_encoder.transform(x_test[categorical_cols]))\n",
    "\n",
    "OH_cols_train.index = x_train.index\n",
    "OH_cols_test.index = x_test.index\n",
    "\n",
    "num_x_train = x_train.drop(categorical_cols, axis = 1)\n",
    "num_x_test = x_test.drop(categorical_cols, axis = 1)\n",
    "\n",
    "OH_x_train = pd.concat([num_x_train, OH_cols_train], axis = 1)\n",
    "OH_x_test = pd.concat([num_x_test, OH_cols_test], axis = 1)"
   ]
  },
  {
   "cell_type": "code",
   "execution_count": 23,
   "id": "295a6d5e",
   "metadata": {},
   "outputs": [],
   "source": [
    "#creating a preprocessor to impute missing vals and one hot encode for categorical\n",
    "#preprocessor = Pipeline([\n",
    "#    ('imputer', SimpleImputer(strategy='most_frequent')),\n",
    "#    ('onehot', OneHotEncoder(handle_unknown='ignore'))])\n",
    "\n",
    "#preprocessor.fit(x_train)\n",
    "\n",
    "#x_train_transformed = pd.DataFrame(preprocessor.transform(x_train))\n",
    "#x_test_transformed = pd.DataFrame(preprocessor.transform(x_test))"
   ]
  },
  {
   "cell_type": "code",
   "execution_count": 24,
   "id": "f602cd72",
   "metadata": {},
   "outputs": [],
   "source": [
    "#null_index= x_train.isnull().index\n",
    "#null_index\n",
    "#print(num_miss[num_miss>0])"
   ]
  },
  {
   "cell_type": "code",
   "execution_count": 25,
   "id": "d29b2363",
   "metadata": {},
   "outputs": [],
   "source": [
    "####   TRANSFORMER   #####\n",
    "#transform good categorical columns by imputing and one hot encoding \n",
    "#numerical_transformer = SimpleImputer()\n",
    "\n",
    "#categorical_transformer = Pipeline(steps=[\n",
    "#    ('imputer', SimpleImputer(strategy='most_frequent')),\n",
    "#    ('onehot', OneHotEncoder(handle_unknown='ignore'))\n",
    "#])\n",
    "\n",
    "#preprocessor does not need numerical since it does not have any NAs\n",
    "#preprocessor = ColumnTransformer( \n",
    "#    transformers = [\n",
    "#        ('num', numerical_transformer, numerical_cols),\n",
    "#        ('cat', categorical_transformer, categorical_cols)\n",
    "#])\n",
    "\n",
    "#model\n",
    "#model = XGBRegressor(n_estimators=500)\n",
    "#model = RandomForestRegressor(n_estimators=100, random_state=0)\n",
    "\n",
    "#pipeline\n",
    "#pipeline = Pipeline(steps = [('preprocessor', preprocessor),\n",
    "#                            ('model', model)\n",
    "#                            ])\n",
    "\n",
    "#fitting and predicting\n",
    "#pipeline.fit(x_train, y_train,\n",
    "            # model__early_stopping_rounds=5,\n",
    "            # model__eval_set=[(x_test,y_test)],\n",
    "            # model__verbose=False)\n",
    "#pipeline.fit(x_train,y_train)\n",
    "\n",
    "#predictions = pipeline.predict(x_test)"
   ]
  },
  {
   "cell_type": "code",
   "execution_count": 26,
   "id": "cbc0a721",
   "metadata": {},
   "outputs": [],
   "source": [
    "#create a function that runs XGBoost and returns MSE for test data set \n",
    "def xgboost_mse(x_train, x_test, y_train, y_test):\n",
    "    model = XGBRegressor(n_estimators=500)\n",
    "    model.fit(x_train, y_train,\n",
    "             early_stopping_rounds=5,\n",
    "             eval_set=[(x_test,y_test)],\n",
    "             verbose=False)\n",
    "    predictions = model.predict(x_test)\n",
    "    error = mean_squared_error(y_test, predictions)\n",
    "    return error"
   ]
  },
  {
   "cell_type": "code",
   "execution_count": 27,
   "id": "e1c32c5a",
   "metadata": {},
   "outputs": [],
   "source": [
    "#create a function that runs RandomForest and returns MSE for test data set\n",
    "def RandomForest_mse(x_train, x_test, y_train, y_test):\n",
    "    model = RandomForestRegressor(random_state=0)\n",
    "    model.fit(x_train, y_train)\n",
    "    pred = model.predict(x_test)\n",
    "    error = mean_squared_error(y_test, pred)\n",
    "    return error"
   ]
  },
  {
   "cell_type": "code",
   "execution_count": 28,
   "id": "9099142e",
   "metadata": {},
   "outputs": [],
   "source": [
    "#error_RF = RandomForest_mse(OH_x_train, OH_x_test, y_train, y_test)\n",
    "#print(error_RF)"
   ]
  },
  {
   "cell_type": "code",
   "execution_count": 29,
   "id": "05a7a058",
   "metadata": {},
   "outputs": [],
   "source": [
    "#error term after OH encoding categorical variables fuelType, vehicleType, gearbox\n",
    "#dropped columns name, seller, brand, model\n",
    "#possibly ordinal encode brand and model \n",
    "#error_OH_encode = xgboost_mse(OH_x_train, OH_x_test, y_train, y_test)\n",
    "#print(error_OH_encode)"
   ]
  },
  {
   "cell_type": "code",
   "execution_count": 30,
   "id": "f46fd3e7",
   "metadata": {},
   "outputs": [],
   "source": [
    "### Potential Improvements to the Model ###\n",
    "# 1. K means Cluster\n",
    "# 2. PCA\n",
    "# 3. Target Encode the 'model' variable \n"
   ]
  },
  {
   "cell_type": "code",
   "execution_count": 31,
   "id": "01ffedeb",
   "metadata": {},
   "outputs": [
    {
     "name": "stdout",
     "output_type": "stream",
     "text": [
      "Correlation with price:\n",
      "\n",
      "yearOfRegistration     0.038544\n",
      "powerPS                0.135953\n",
      "kilometer             -0.284895\n",
      "monthOfRegistration    0.077297\n",
      "postalCode             0.056962\n",
      "dtype: float64\n"
     ]
    }
   ],
   "source": [
    "###---  PCA  ---###\n",
    "#print(numerical_cols)\n",
    "pca_x_train = OH_x_train.copy()\n",
    "pca_x_test = OH_x_test.copy()\n",
    "pca_numerical_cols = ['yearOfRegistration', 'powerPS', 'kilometer', 'monthOfRegistration', 'postalCode']\n",
    "\n",
    "print(\"Correlation with price:\\n\")\n",
    "print(pca_x_train[pca_numerical_cols].corrwith(y_train))"
   ]
  },
  {
   "cell_type": "code",
   "execution_count": 32,
   "id": "dc41f8cc",
   "metadata": {},
   "outputs": [],
   "source": [
    "#defining function to apply pca \n",
    "def apply_pca(x):\n",
    "    #normalize\n",
    "    x = (x-x.mean(axis=0)) / x.std(axis = 0)\n",
    "    #run pca\n",
    "    pca = PCA()\n",
    "    x_pca = pca.fit_transform(x)\n",
    "    #to df\n",
    "    names = [f\"PC{i+1}\" for i in range(x.shape[1])]\n",
    "    x_pca = pd.DataFrame(x_pca, columns = names)\n",
    "    return x_pca"
   ]
  },
  {
   "cell_type": "code",
   "execution_count": 33,
   "id": "629e58a5",
   "metadata": {},
   "outputs": [],
   "source": [
    "pca_scores_x_train = pca_x_train.loc[:, pca_numerical_cols]\n",
    "pca_scores_x_test = pca_x_test.loc[:, pca_numerical_cols]\n",
    "\n",
    "pca_scores_x_train = apply_pca(pca_scores_x_train)\n",
    "pca_scores_x_test = apply_pca(pca_scores_x_test)"
   ]
  },
  {
   "cell_type": "code",
   "execution_count": 34,
   "id": "f71fbf11",
   "metadata": {},
   "outputs": [],
   "source": [
    "#joining pca scores\n",
    "pca_scores_x_train['index'] = pca_x_train.index\n",
    "pca_scores_x_test['index'] = pca_x_test.index\n",
    "\n",
    "pca_scores_x_train = pca_scores_x_train.set_index('index') \n",
    "pca_scores_x_test = pca_scores_x_test.set_index('index')\n",
    "\n",
    "pca_x_train = pca_x_train.join(pca_scores_x_train)\n",
    "pca_x_test = pca_x_test.join(pca_scores_x_test)"
   ]
  },
  {
   "cell_type": "code",
   "execution_count": 35,
   "id": "2ebafb49",
   "metadata": {},
   "outputs": [],
   "source": [
    "#pca_x_train.isna().sum()"
   ]
  },
  {
   "cell_type": "code",
   "execution_count": 36,
   "id": "72d36712",
   "metadata": {},
   "outputs": [],
   "source": [
    "#error_pca = xgboost_mse(pca_x_train, pca_x_test, y_train, y_test)\n",
    "#error_pca"
   ]
  },
  {
   "cell_type": "code",
   "execution_count": 37,
   "id": "6bdb6363",
   "metadata": {},
   "outputs": [],
   "source": [
    "###--- K-Means ----###\n",
    "kmeans_x_train = OH_x_train.copy()\n",
    "kmeans_x_test = OH_x_test.copy()\n",
    "\n",
    "kmeans_features = ['yearOfRegistration', 'powerPS', 'kilometer', 'monthOfRegistration', 'postalCode']\n",
    "\n",
    "kmeans_x_train = kmeans_x_train.loc[:,kmeans_features] \n",
    "kmeans_x_test = kmeans_x_test.loc[:,kmeans_features]\n",
    "\n",
    "#normalize\n",
    "def normalize(x):\n",
    "    x = (x-x.mean(axis=0)) / x.std(axis = 0)\n",
    "    return x"
   ]
  },
  {
   "cell_type": "code",
   "execution_count": 38,
   "id": "1d9a68d9",
   "metadata": {},
   "outputs": [],
   "source": [
    "## seeing if normalizing data provides better results \n",
    "normalized_x_train = normalize(kmeans_x_train)\n",
    "normalized_x_test = normalize(kmeans_x_test)\n",
    "\n",
    "norm_cols = normalized_x_train.columns\n",
    "\n",
    "norm_x_train = OH_x_train.drop(norm_cols, axis = 1)\n",
    "norm_x_test = OH_x_test.drop(norm_cols, axis = 1)\n",
    "\n",
    "\n",
    "norm_x_train = norm_x_train.join(normalized_x_train)\n",
    "norm_x_test = norm_x_test.join(normalized_x_test)\n",
    "\n",
    "#error_num_norm = xgboost_mse(norm_x_train, norm_x_test, y_train, y_test)\n",
    "#error_num_norm"
   ]
  },
  {
   "cell_type": "code",
   "execution_count": 39,
   "id": "7e46d4e5",
   "metadata": {},
   "outputs": [],
   "source": [
    "##K-Means\n",
    "kmeans_x_train = normalize(kmeans_x_train)\n",
    "kmeans_x_test = normalize(kmeans_x_test)"
   ]
  },
  {
   "cell_type": "code",
   "execution_count": 40,
   "id": "0d252f30",
   "metadata": {},
   "outputs": [],
   "source": [
    "kmeans = KMeans(n_clusters=8, n_init=8, random_state=0)\n",
    "kmeans_x_train['Cluster'] = kmeans.fit_predict(kmeans_x_train)\n",
    "kmeans_x_test['Cluster'] = kmeans.fit_predict(kmeans_x_test) "
   ]
  },
  {
   "cell_type": "code",
   "execution_count": 41,
   "id": "7e287464",
   "metadata": {},
   "outputs": [],
   "source": [
    "kmeans_x_train = OH_x_train.join(kmeans_x_train['Cluster'])\n",
    "kmeans_x_test = OH_x_test.join(kmeans_x_test['Cluster'])"
   ]
  },
  {
   "cell_type": "code",
   "execution_count": 42,
   "id": "6cd41101",
   "metadata": {},
   "outputs": [],
   "source": [
    "#error_kmeans = xgboost_mse(kmeans_x_train, kmeans_x_test, y_train, y_test)\n",
    "#error_kmeans"
   ]
  },
  {
   "cell_type": "code",
   "execution_count": 43,
   "id": "a31c40ca",
   "metadata": {},
   "outputs": [],
   "source": [
    "#model = XGBRegressor(n_estimators=500)\n",
    "#mse_scores = cross_val_score(model, OH_x_train, y_train, cv=5, scoring='neg_mean_squared_error')"
   ]
  },
  {
   "cell_type": "code",
   "execution_count": 44,
   "id": "499c188a",
   "metadata": {},
   "outputs": [],
   "source": [
    "### ----- Target Encoding ----- ###\n",
    "#encoding split\n",
    "encode_x_train = x_train1.sample(frac = 0.20, random_state=0)\n",
    "encode_y = y_train[encode_x_train.index]\n",
    "\n",
    "pretrain_x_train = x_train1.drop(encode_x_train.index)\n",
    "target_y_train = y_train[pretrain_x_train.index]\n",
    "\n",
    "#encoder fitting\n",
    "encoder = MEstimateEncoder(cols=['model'], m=3.0)\n",
    "encoder.fit(encode_x_train,encode_y)\n",
    "\n",
    "#encoder transforming\n",
    "target_x_train = encoder.transform(pretrain_x_train)\n",
    "target_x_test = encoder.transform(x_test1)\n",
    "\n",
    "#choosing\n",
    "numerical_cols = [col for col in target_x_train.columns if target_x_train[col].dtype in ['int64','float64']]\n",
    "categorical_cols = [col for col in target_x_train.columns if target_x_train[col].dtype == 'object']\n",
    "\n",
    "all_cols = numerical_cols + categorical_cols\n",
    "\n",
    "#manual OneHotEncoding\n",
    "OH_encoder = OneHotEncoder(handle_unknown='ignore', sparse = False)\n",
    "tar_cols_train = pd.DataFrame(OH_encoder.fit_transform(target_x_train[categorical_cols]))\n",
    "tar_cols_test = pd.DataFrame(OH_encoder.transform(target_x_test[categorical_cols]))\n",
    "\n",
    "tar_cols_train.index = target_x_train.index\n",
    "tar_cols_test.index = target_x_test.index\n",
    "\n",
    "num_tar_x_train = target_x_train.drop(categorical_cols, axis = 1)\n",
    "num_tar_x_test = target_x_test.drop(categorical_cols, axis = 1)\n",
    "\n",
    "tarOH_x_train = pd.concat([num_tar_x_train, tar_cols_train], axis = 1)\n",
    "tarOH_x_test = pd.concat([num_tar_x_test, tar_cols_test], axis = 1)"
   ]
  },
  {
   "cell_type": "code",
   "execution_count": 45,
   "id": "7e664dc8",
   "metadata": {},
   "outputs": [],
   "source": [
    "#target_error = xgboost_mse(tarOH_x_train, tarOH_x_test, target_y_train, y_test)"
   ]
  },
  {
   "cell_type": "code",
   "execution_count": 46,
   "id": "6b10c066",
   "metadata": {},
   "outputs": [],
   "source": [
    "#target_error"
   ]
  },
  {
   "cell_type": "code",
   "execution_count": 47,
   "id": "d9c20f39",
   "metadata": {},
   "outputs": [],
   "source": [
    "def avg_cross_val(model, x, y):\n",
    "    #x = pd.concat([x_train, x_test], axis = 0)\n",
    "    #y = pd.concat([y_train, y_test], axis = 0)\n",
    "    scores = cross_val_score(model, x, y, cv=3, scoring='neg_mean_squared_error')\n",
    "    scores = - scores\n",
    "    avg = scores.mean()\n",
    "    return avg"
   ]
  },
  {
   "cell_type": "code",
   "execution_count": 48,
   "id": "bd60fde1",
   "metadata": {},
   "outputs": [],
   "source": [
    "def avg_crossval(model, x_train, x_test, y_train, y_test):\n",
    "    x = pd.concat([x_train, x_test], axis = 0)\n",
    "    y = pd.concat([y_train, y_test], axis = 0)\n",
    "    scores = cross_val_score(model, x, y, cv=3, scoring='neg_mean_squared_error')\n",
    "    scores = - scores\n",
    "    avg = scores.mean()\n",
    "    return avg"
   ]
  },
  {
   "cell_type": "code",
   "execution_count": 49,
   "id": "e0a732ef",
   "metadata": {},
   "outputs": [
    {
     "name": "stdout",
     "output_type": "stream",
     "text": [
      "Avg. Cross Validation MSE Scores:\n",
      "\n",
      "One Hot Encoding Only:\n",
      "\n",
      "OH & PCA:\n",
      "\n",
      "OH & K-Means:\n",
      "\n",
      "OH & Target Encoding:\n"
     ]
    }
   ],
   "source": [
    "model = model = XGBRegressor(n_estimators=500)\n",
    "print('Avg. Cross Validation MSE Scores:\\n')\n",
    "print('One Hot Encoding Only:')\n",
    "#print(avg_crossval(model,OH_x_train, OH_x_test, y_train, y_test))\n",
    "print('\\nOH & PCA:')\n",
    "#print(avg_crossval(model, pca_x_train, pca_x_test, y_train, y_test))\n",
    "print('\\nOH & K-Means:')\n",
    "#print(avg_crossval(model, kmeans_x_train, kmeans_x_test, y_train, y_test))\n",
    "print('\\nOH & Target Encoding:')\n",
    "#print(avg_crossval(model, tarOH_x_train, tarOH_x_test, target_y_train, y_test))"
   ]
  },
  {
   "cell_type": "code",
   "execution_count": 50,
   "id": "7fdc0300",
   "metadata": {},
   "outputs": [],
   "source": [
    "#### FINAL PREDICTION OUTPUT ####\n",
    "#obtaining prediction prices for submission using 'test'\n",
    "x_real = test.drop(bad_cols, axis = 1)"
   ]
  },
  {
   "cell_type": "code",
   "execution_count": 51,
   "id": "d4f38010",
   "metadata": {},
   "outputs": [],
   "source": [
    "#parsing dateCreated\n",
    "x_real['dateCreated'] = x_real['dateCreated'].apply(lambda x: x.lstrip('0'))\n",
    "x_real['dateCreated'] = pd.to_datetime(x_real['dateCreated'], format='%m/%d/%y')\n",
    "\n",
    "#changing date into 3 separate columns of month, day, year as int\n",
    "x_real['date_month'] = x_real['dateCreated'].dt.month\n",
    "x_real['date_day'] = x_real['dateCreated'].dt.day\n",
    "x_real['date_year'] = x_real['dateCreated'].dt.year\n",
    "\n",
    "x_real = x_real.drop(['dateCreated'], axis = 1)"
   ]
  },
  {
   "cell_type": "code",
   "execution_count": 52,
   "id": "8dc64e95",
   "metadata": {},
   "outputs": [
    {
     "data": {
      "text/html": [
       "<div>\n",
       "<style scoped>\n",
       "    .dataframe tbody tr th:only-of-type {\n",
       "        vertical-align: middle;\n",
       "    }\n",
       "\n",
       "    .dataframe tbody tr th {\n",
       "        vertical-align: top;\n",
       "    }\n",
       "\n",
       "    .dataframe thead th {\n",
       "        text-align: right;\n",
       "    }\n",
       "</style>\n",
       "<table border=\"1\" class=\"dataframe\">\n",
       "  <thead>\n",
       "    <tr style=\"text-align: right;\">\n",
       "      <th></th>\n",
       "      <th>vehicleType</th>\n",
       "      <th>yearOfRegistration</th>\n",
       "      <th>gearbox</th>\n",
       "      <th>powerPS</th>\n",
       "      <th>model</th>\n",
       "      <th>kilometer</th>\n",
       "      <th>monthOfRegistration</th>\n",
       "      <th>fuelType</th>\n",
       "      <th>brand</th>\n",
       "      <th>notRepairedDamage</th>\n",
       "      <th>postalCode</th>\n",
       "      <th>date_month</th>\n",
       "      <th>date_day</th>\n",
       "      <th>date_year</th>\n",
       "    </tr>\n",
       "  </thead>\n",
       "  <tbody>\n",
       "    <tr>\n",
       "      <th>0</th>\n",
       "      <td>bus</td>\n",
       "      <td>2004</td>\n",
       "      <td>manuell</td>\n",
       "      <td>128</td>\n",
       "      <td>andere</td>\n",
       "      <td>150000</td>\n",
       "      <td>3</td>\n",
       "      <td>diesel</td>\n",
       "      <td>peugeot</td>\n",
       "      <td>nein</td>\n",
       "      <td>85764</td>\n",
       "      <td>4</td>\n",
       "      <td>5</td>\n",
       "      <td>2016</td>\n",
       "    </tr>\n",
       "    <tr>\n",
       "      <th>1</th>\n",
       "      <td>coupe</td>\n",
       "      <td>2001</td>\n",
       "      <td>automatik</td>\n",
       "      <td>163</td>\n",
       "      <td>c_klasse</td>\n",
       "      <td>150000</td>\n",
       "      <td>5</td>\n",
       "      <td>benzin</td>\n",
       "      <td>mercedes_benz</td>\n",
       "      <td>NaN</td>\n",
       "      <td>21149</td>\n",
       "      <td>3</td>\n",
       "      <td>8</td>\n",
       "      <td>2016</td>\n",
       "    </tr>\n",
       "    <tr>\n",
       "      <th>2</th>\n",
       "      <td>limousine</td>\n",
       "      <td>2009</td>\n",
       "      <td>automatik</td>\n",
       "      <td>160</td>\n",
       "      <td>golf</td>\n",
       "      <td>30000</td>\n",
       "      <td>2</td>\n",
       "      <td>benzin</td>\n",
       "      <td>volkswagen</td>\n",
       "      <td>nein</td>\n",
       "      <td>58089</td>\n",
       "      <td>3</td>\n",
       "      <td>21</td>\n",
       "      <td>2016</td>\n",
       "    </tr>\n",
       "    <tr>\n",
       "      <th>3</th>\n",
       "      <td>kleinwagen</td>\n",
       "      <td>2003</td>\n",
       "      <td>manuell</td>\n",
       "      <td>64</td>\n",
       "      <td>polo</td>\n",
       "      <td>150000</td>\n",
       "      <td>5</td>\n",
       "      <td>benzin</td>\n",
       "      <td>volkswagen</td>\n",
       "      <td>nein</td>\n",
       "      <td>49685</td>\n",
       "      <td>3</td>\n",
       "      <td>25</td>\n",
       "      <td>2016</td>\n",
       "    </tr>\n",
       "    <tr>\n",
       "      <th>4</th>\n",
       "      <td>suv</td>\n",
       "      <td>2004</td>\n",
       "      <td>manuell</td>\n",
       "      <td>113</td>\n",
       "      <td>santa</td>\n",
       "      <td>150000</td>\n",
       "      <td>6</td>\n",
       "      <td>diesel</td>\n",
       "      <td>hyundai</td>\n",
       "      <td>nein</td>\n",
       "      <td>54472</td>\n",
       "      <td>3</td>\n",
       "      <td>13</td>\n",
       "      <td>2016</td>\n",
       "    </tr>\n",
       "  </tbody>\n",
       "</table>\n",
       "</div>"
      ],
      "text/plain": [
       "  vehicleType  yearOfRegistration    gearbox  powerPS     model  kilometer  \\\n",
       "0         bus                2004    manuell      128    andere     150000   \n",
       "1       coupe                2001  automatik      163  c_klasse     150000   \n",
       "2   limousine                2009  automatik      160      golf      30000   \n",
       "3  kleinwagen                2003    manuell       64      polo     150000   \n",
       "4         suv                2004    manuell      113     santa     150000   \n",
       "\n",
       "   monthOfRegistration fuelType          brand notRepairedDamage  postalCode  \\\n",
       "0                    3   diesel        peugeot              nein       85764   \n",
       "1                    5   benzin  mercedes_benz               NaN       21149   \n",
       "2                    2   benzin     volkswagen              nein       58089   \n",
       "3                    5   benzin     volkswagen              nein       49685   \n",
       "4                    6   diesel        hyundai              nein       54472   \n",
       "\n",
       "   date_month  date_day  date_year  \n",
       "0           4         5       2016  \n",
       "1           3         8       2016  \n",
       "2           3        21       2016  \n",
       "3           3        25       2016  \n",
       "4           3        13       2016  "
      ]
     },
     "execution_count": 52,
     "metadata": {},
     "output_type": "execute_result"
    }
   ],
   "source": [
    "x_real.head()"
   ]
  },
  {
   "cell_type": "code",
   "execution_count": 68,
   "id": "7815ab5c",
   "metadata": {},
   "outputs": [],
   "source": [
    "### ---- Target Encoding 'model' ---- ###\n",
    "#***************************************#\n",
    "\n",
    "    #---PRODUCED BEST RESULTS---#\n",
    "\n",
    "#encoder transforming\n",
    "target_x_real = encoder.transform(x_real)\n",
    "\n",
    "\n",
    "#separating cols \n",
    "numerical_cols = [col for col in target_x_real.columns if target_x_real[col].dtype in ['int64','float64']]\n",
    "categorical_cols = [col for col in target_x_real.columns if target_x_real[col].dtype == 'object']\n",
    "\n",
    "all_cols = numerical_cols + categorical_cols\n",
    "\n",
    "#manual OneHotEncoding\n",
    "OH_encoder = OneHotEncoder(handle_unknown='ignore', sparse = False)\n",
    "tar_cols_real = pd.DataFrame(OH_encoder.fit_transform(target_x_real[categorical_cols]))\n",
    "\n",
    "tar_cols_real.index = target_x_real.index\n",
    "\n",
    "num_tar_x_real = target_x_real.drop(categorical_cols, axis = 1)\n",
    "\n",
    "tarOH_x_real = pd.concat([num_tar_x_real, tar_cols_real], axis = 1)"
   ]
  },
  {
   "cell_type": "code",
   "execution_count": 69,
   "id": "09afea02",
   "metadata": {},
   "outputs": [
    {
     "name": "stderr",
     "output_type": "stream",
     "text": [
      "C:\\Users\\natha\\anaconda3\\lib\\site-packages\\xgboost\\sklearn.py:793: UserWarning: `early_stopping_rounds` in `fit` method is deprecated for better compatibility with scikit-learn, use `early_stopping_rounds` in constructor or`set_params` instead.\n",
      "  warnings.warn(\n"
     ]
    }
   ],
   "source": [
    "#XGBoost model \n",
    "model = XGBRegressor(n_estimators=500)\n",
    "model.fit(tarOH_x_train, target_y_train, \n",
    "          early_stopping_rounds=5,\n",
    "          eval_set=[(tarOH_x_test,y_test)],\n",
    "          verbose=False)\n",
    "\n",
    "predictions = model.predict(tarOH_x_real)"
   ]
  },
  {
   "cell_type": "code",
   "execution_count": 71,
   "id": "e71c2197",
   "metadata": {},
   "outputs": [],
   "source": [
    "#defining numerical and categorical cols \n",
    "#numerical_cols = [col for col in x_train.columns if x_train[col].dtype in ['int64','float64']]\n",
    "#categorical_cols = [col for col in x_train.columns if x_train[col].dtype == 'object']\n",
    "\n",
    "#manual OneHotEncoding\n",
    "#OH_encoder = OneHotEncoder(handle_unknown='ignore', sparse = False)\n",
    "#OH_cols_real = pd.DataFrame(OH_encoder.fit_transform(x_real[categorical_cols]))\n",
    "\n",
    "#OH_cols_real.index = x_real.index\n",
    "\n",
    "#num_x_real = x_real.drop(categorical_cols, axis = 1)\n",
    "\n",
    "#OH_x_real = pd.concat([num_x_real, OH_cols_real], axis = 1)\n",
    "\n",
    "#XGBoost model \n",
    "#model = XGBRegressor(n_estimators=500)\n",
    "#model.fit(OH_x_train, y_train,\n",
    "#          early_stopping_rounds=5,\n",
    "#          eval_set=[(OH_x_test,y_test)],\n",
    "#          verbose=False)\n",
    "\n",
    "#predictions = model.predict(OH_x_real)"
   ]
  },
  {
   "cell_type": "code",
   "execution_count": 56,
   "id": "fb62dff0",
   "metadata": {},
   "outputs": [],
   "source": [
    "def toCSV(pred, file_name):\n",
    "    ids = np.array(list(range(1,10001)))\n",
    "    output = output = pd.DataFrame({'Id' : ids, 'Predicted' : pred})\n",
    "    output.to_csv(file_name, index = False)"
   ]
  },
  {
   "cell_type": "code",
   "execution_count": 57,
   "id": "09b1a0f0",
   "metadata": {},
   "outputs": [],
   "source": [
    "#toCSV(predictions,'submission3.csv')"
   ]
  },
  {
   "cell_type": "code",
   "execution_count": 58,
   "id": "115bc6e4",
   "metadata": {},
   "outputs": [
    {
     "name": "stdout",
     "output_type": "stream",
     "text": [
      "Fitting 5 folds for each of 12 candidates, totalling 60 fits\n",
      "Best parameters: {'learning_rate': 0.05, 'max_depth': 8, 'n_estimators': 500}\n"
     ]
    }
   ],
   "source": [
    "### XGBOOST Hyperparameter Tuning ###\n",
    "#from sklearn.model_selection import GridSearchCV\n",
    "\n",
    "#XGBoost model \n",
    "#model = XGBRegressor()\n",
    "\n",
    "#parameters\n",
    "#parameters = {\n",
    "#    'learning_rate' : [0.01,0.05],\n",
    "#    'n_estimators' : [250,500,1000],\n",
    "#    'max_depth' : [6,8]\n",
    "#    #'subsample' : [0.9,0.7]\n",
    "#}\n",
    "\n",
    "#grid = GridSearchCV(estimator=model, param_grid=parameters, scoring='neg_mean_squared_error', verbose=1)\n",
    "\n",
    "#grid.fit(tarOH_x_train, target_y_train)\n",
    "\n",
    "\n",
    "#print(\"Best parameters:\", grid.best_params_)\n",
    "\n",
    "#*************************************************************#\n",
    "# --------- Output -----------#\n",
    "#Fitting 5 folds for each of 12 candidates, totalling 60 fits\n",
    "#Best parameters: {'learning_rate': 0.05, 'max_depth': 8, 'n_estimators': 500}"
   ]
  },
  {
   "cell_type": "code",
   "execution_count": 72,
   "id": "16faf9bc",
   "metadata": {},
   "outputs": [
    {
     "name": "stderr",
     "output_type": "stream",
     "text": [
      "C:\\Users\\natha\\anaconda3\\lib\\site-packages\\xgboost\\sklearn.py:793: UserWarning: `early_stopping_rounds` in `fit` method is deprecated for better compatibility with scikit-learn, use `early_stopping_rounds` in constructor or`set_params` instead.\n",
      "  warnings.warn(\n"
     ]
    },
    {
     "data": {
      "text/plain": [
       "XGBRegressor(base_score=0.5, booster='gbtree', callbacks=None,\n",
       "             colsample_bylevel=1, colsample_bynode=1, colsample_bytree=1,\n",
       "             early_stopping_rounds=None, enable_categorical=False,\n",
       "             eval_metric=None, gamma=0, gpu_id=-1, grow_policy='depthwise',\n",
       "             importance_type=None, interaction_constraints='',\n",
       "             learning_rate=0.05, max_bin=256, max_cat_to_onehot=4,\n",
       "             max_delta_step=0, max_depth=8, max_leaves=0, min_child_weight=1,\n",
       "             missing=nan, monotone_constraints='()', n_estimators=500, n_jobs=0,\n",
       "             num_parallel_tree=1, predictor='auto', random_state=0, reg_alpha=0,\n",
       "             reg_lambda=1, ...)"
      ]
     },
     "execution_count": 72,
     "metadata": {},
     "output_type": "execute_result"
    }
   ],
   "source": [
    "#XGBoost model with new params\n",
    "model = XGBRegressor( learning_rate = 0.05, max_depth=8, n_estimators= 500)\n",
    "model.fit(tarOH_x_train, target_y_train, \n",
    "          early_stopping_rounds=5,\n",
    "          eval_set=[(tarOH_x_test,y_test)],\n",
    "          verbose=False)\n",
    "#predictions = model.predict(OH_x_real)"
   ]
  },
  {
   "cell_type": "code",
   "execution_count": 73,
   "id": "faaf013f",
   "metadata": {},
   "outputs": [],
   "source": [
    "predictions = model.predict(tarOH_x_real)\n",
    "#toCSV(predictions,'submission4.csv')"
   ]
  },
  {
   "cell_type": "code",
   "execution_count": 59,
   "id": "100f576c",
   "metadata": {},
   "outputs": [],
   "source": [
    "###--- K-Means ----###\n",
    "#kmeans_x_real = OH_x_real.copy()\n",
    "#kmeans_features = ['yearOfRegistration', 'powerPS', 'kilometer', 'monthOfRegistration', 'postalCode']\n",
    "\n",
    "#kmeans_x_real = kmeans_x_real.loc[:,kmeans_features] \n",
    "\n",
    "##K-Means\n",
    "#kmeans_x_real = normalize(kmeans_x_real)\n",
    "\n"
   ]
  },
  {
   "cell_type": "code",
   "execution_count": 60,
   "id": "4decc0dc",
   "metadata": {},
   "outputs": [],
   "source": [
    "#kmeans = KMeans(n_clusters=8, n_init=8, random_state=0)\n",
    "#kmeans_x_real['Cluster'] = kmeans.fit_predict(kmeans_x_real)\n",
    "\n",
    "#kmeans_x_real = OH_x_real.join(kmeans_x_real['Cluster'])"
   ]
  }
 ],
 "metadata": {
  "kernelspec": {
   "display_name": "Python 3 (ipykernel)",
   "language": "python",
   "name": "python3"
  },
  "language_info": {
   "codemirror_mode": {
    "name": "ipython",
    "version": 3
   },
   "file_extension": ".py",
   "mimetype": "text/x-python",
   "name": "python",
   "nbconvert_exporter": "python",
   "pygments_lexer": "ipython3",
   "version": "3.9.12"
  }
 },
 "nbformat": 4,
 "nbformat_minor": 5
}
