{
 "cells": [
  {
   "cell_type": "code",
   "execution_count": 116,
   "id": "2450d348",
   "metadata": {},
   "outputs": [],
   "source": [
    "#!pip install tensorflow\n",
    "#!pip install optuna"
   ]
  },
  {
   "cell_type": "code",
   "execution_count": 1,
   "id": "7e0b6838",
   "metadata": {},
   "outputs": [],
   "source": [
    "import pandas as pd \n",
    "import numpy as np \n",
    "import matplotlib.pyplot as plt\n",
    "from sklearn.model_selection import train_test_split\n",
    "from sklearn.preprocessing import StandardScaler, OneHotEncoder\n",
    "from sklearn.pipeline import make_pipeline\n",
    "from sklearn.compose import make_column_transformer\n",
    "from sklearn.metrics import mean_absolute_error\n",
    "from tensorflow import keras\n",
    "from tensorflow.keras import layers \n",
    "from sklearn.metrics import accuracy_score\n",
    "from sklearn.model_selection import GridSearchCV\n",
    "from keras.wrappers.scikit_learn import KerasClassifier"
   ]
  },
  {
   "cell_type": "code",
   "execution_count": 2,
   "id": "85fa07f5",
   "metadata": {},
   "outputs": [],
   "source": [
    "from keras.models import Sequential \n",
    "from keras.layers import Dense, Activation, Dropout\n",
    "from keras.activations import relu, sigmoid"
   ]
  },
  {
   "cell_type": "code",
   "execution_count": 17,
   "id": "5a2b34ac",
   "metadata": {},
   "outputs": [],
   "source": [
    "train = pd.read_csv('train.csv')\n",
    "test = pd.read_csv('test.csv')"
   ]
  },
  {
   "cell_type": "code",
   "execution_count": 4,
   "id": "f79857c4",
   "metadata": {},
   "outputs": [
    {
     "name": "stdout",
     "output_type": "stream",
     "text": [
      "Train: \n",
      "\n",
      "Index(['F1', 'F2', 'F3', 'F4', 'F5', 'F6', 'F7', 'F8', 'F9', 'F10', 'F11',\n",
      "       'F12', 'F13', 'F14', 'F15', 'F16', 'F17', 'F18', 'F19', 'F20', 'F21',\n",
      "       'F22', 'F23', 'F24', 'F25', 'F26', 'F27', 'F28', 'F29', 'F30', 'F31',\n",
      "       'F32', 'F33', 'F34', 'F35', 'F36', 'F37', 'F38', 'F39', 'F40', 'F41',\n",
      "       'F42', 'F43', 'F44', 'F45', 'F46', 'F47', 'F48', 'F49', 'F50', 'F51',\n",
      "       'F52', 'F53', 'F54', 'F55', 'F56', 'F57', 'categ'],\n",
      "      dtype='object')\n",
      "     F1    F2    F3   F4    F5    F6   F7    F8    F9   F10  ...    F49  \\\n",
      "0  0.00  0.00  0.00  0.0  0.00  0.00  0.0  0.00  0.00  0.00  ...  0.218   \n",
      "1  0.32  0.00  0.64  0.0  0.32  0.32  0.0  1.61  0.32  0.64  ...  0.000   \n",
      "2  0.00  0.46  0.00  0.0  0.00  0.00  0.0  0.00  0.00  0.00  ...  0.000   \n",
      "3  0.00  0.00  0.00  0.0  0.00  1.12  0.0  0.00  0.00  0.00  ...  0.000   \n",
      "4  0.00  0.00  0.46  0.0  0.46  0.00  0.0  0.00  0.00  0.00  ...  0.000   \n",
      "\n",
      "     F50  F51    F52    F53  F54    F55  F56  F57  categ  \n",
      "0  0.218  0.0  0.054  0.000  0.0  2.160    9  108      0  \n",
      "1  0.160  0.0  1.178  0.107  0.0  3.613   63  318      1  \n",
      "2  0.155  0.0  0.000  0.000  0.0  2.982   28  167      0  \n",
      "3  0.392  0.0  3.333  0.000  0.0  2.551   12   74      1  \n",
      "4  0.082  0.0  0.663  0.000  0.0  1.428   20  120      1  \n",
      "\n",
      "[5 rows x 58 columns]\n",
      "Test: \n",
      "\n",
      "Index(['F1', 'F2', 'F3', 'F4', 'F5', 'F6', 'F7', 'F8', 'F9', 'F10', 'F11',\n",
      "       'F12', 'F13', 'F14', 'F15', 'F16', 'F17', 'F18', 'F19', 'F20', 'F21',\n",
      "       'F22', 'F23', 'F24', 'F25', 'F26', 'F27', 'F28', 'F29', 'F30', 'F31',\n",
      "       'F32', 'F33', 'F34', 'F35', 'F36', 'F37', 'F38', 'F39', 'F40', 'F41',\n",
      "       'F42', 'F43', 'F44', 'F45', 'F46', 'F47', 'F48', 'F49', 'F50', 'F51',\n",
      "       'F52', 'F53', 'F54', 'F55', 'F56', 'F57', 'Id'],\n",
      "      dtype='object')\n",
      "    F1    F2    F3   F4    F5    F6    F7    F8    F9   F10  ...    F49  \\\n",
      "0  0.0  0.00  0.00  0.0  0.00  0.00  0.00  0.00  0.00  0.00  ...  0.000   \n",
      "1  0.0  0.26  0.78  0.0  0.26  0.26  0.08  1.04  0.52  1.56  ...  0.096   \n",
      "2  0.0  0.00  1.21  0.0  0.00  2.43  0.00  0.00  0.00  0.00  ...  0.000   \n",
      "3  0.0  0.90  0.00  0.0  0.00  0.00  0.00  0.00  0.00  0.00  ...  0.000   \n",
      "4  0.0  0.00  0.00  0.0  0.00  0.49  0.00  0.49  0.00  0.00  ...  0.000   \n",
      "\n",
      "     F50  F51    F52    F53   F54    F55  F56  F57  Id  \n",
      "0  0.000  0.0  0.000  0.000  0.00  1.000    1    5   1  \n",
      "1  0.234  0.0  0.358  0.261  0.11  3.554   54  981   2  \n",
      "2  0.211  0.0  0.211  0.000  0.00  1.000    1   11   3  \n",
      "3  0.000  0.0  0.165  0.165  0.00  6.266   41   94   4  \n",
      "4  0.228  0.0  0.000  0.000  0.00  1.962    5  106   5  \n",
      "\n",
      "[5 rows x 58 columns]\n"
     ]
    }
   ],
   "source": [
    "print('Train: \\n')\n",
    "print(train.columns)\n",
    "print(train.head())\n",
    "\n",
    "print('Test: \\n')\n",
    "print(test.columns)\n",
    "print(test.head())"
   ]
  },
  {
   "cell_type": "code",
   "execution_count": 167,
   "id": "dac88abf",
   "metadata": {},
   "outputs": [
    {
     "name": "stdout",
     "output_type": "stream",
     "text": [
      "total count of categ == 0: \n",
      "2175\n",
      "ratio of 0 : total \n",
      "0.6039988891974452\n"
     ]
    }
   ],
   "source": [
    "count = (train['categ']==0).sum()\n",
    "print(\"total count of categ == 0: \")\n",
    "print(count)\n",
    "print(\"ratio of 0 : total \")\n",
    "print(count / train.shape[0])\n"
   ]
  },
  {
   "cell_type": "code",
   "execution_count": 18,
   "id": "706b52a0",
   "metadata": {},
   "outputs": [],
   "source": [
    "y = train.categ\n",
    "x = train.drop(['categ'], axis = 1)"
   ]
  },
  {
   "cell_type": "code",
   "execution_count": 19,
   "id": "30771026",
   "metadata": {},
   "outputs": [],
   "source": [
    "id_val = test.Id\n",
    "x_val = test.drop(['Id'], axis = 1)"
   ]
  },
  {
   "cell_type": "code",
   "execution_count": 20,
   "id": "323eced5",
   "metadata": {},
   "outputs": [],
   "source": [
    "num_transformer = make_pipeline(StandardScaler())\n",
    "preprocessor = make_column_transformer((num_transformer, x.columns))"
   ]
  },
  {
   "cell_type": "code",
   "execution_count": 21,
   "id": "b947fdf2",
   "metadata": {},
   "outputs": [],
   "source": [
    "x_train, x_test, y_train, y_test = train_test_split(x,y,stratify=y,train_size = 0.75)\n",
    "\n",
    "x_train_sc = preprocessor.fit_transform(x_train)\n",
    "x_test_sc = preprocessor.transform(x_test)"
   ]
  },
  {
   "cell_type": "code",
   "execution_count": 22,
   "id": "d951e26c",
   "metadata": {},
   "outputs": [],
   "source": [
    "preprocessor.fit(x)\n",
    "x_val_sc = preprocessor.transform(x_val)"
   ]
  },
  {
   "cell_type": "code",
   "execution_count": 52,
   "id": "7da97850",
   "metadata": {},
   "outputs": [
    {
     "data": {
      "text/html": [
       "<div>\n",
       "<style scoped>\n",
       "    .dataframe tbody tr th:only-of-type {\n",
       "        vertical-align: middle;\n",
       "    }\n",
       "\n",
       "    .dataframe tbody tr th {\n",
       "        vertical-align: top;\n",
       "    }\n",
       "\n",
       "    .dataframe thead th {\n",
       "        text-align: right;\n",
       "    }\n",
       "</style>\n",
       "<table border=\"1\" class=\"dataframe\">\n",
       "  <thead>\n",
       "    <tr style=\"text-align: right;\">\n",
       "      <th></th>\n",
       "      <th>F1</th>\n",
       "      <th>F2</th>\n",
       "      <th>F3</th>\n",
       "      <th>F4</th>\n",
       "      <th>F5</th>\n",
       "      <th>F6</th>\n",
       "      <th>F7</th>\n",
       "      <th>F8</th>\n",
       "      <th>F9</th>\n",
       "      <th>F10</th>\n",
       "      <th>...</th>\n",
       "      <th>F48</th>\n",
       "      <th>F49</th>\n",
       "      <th>F50</th>\n",
       "      <th>F51</th>\n",
       "      <th>F52</th>\n",
       "      <th>F53</th>\n",
       "      <th>F54</th>\n",
       "      <th>F55</th>\n",
       "      <th>F56</th>\n",
       "      <th>F57</th>\n",
       "    </tr>\n",
       "  </thead>\n",
       "  <tbody>\n",
       "    <tr>\n",
       "      <th>0</th>\n",
       "      <td>0.00</td>\n",
       "      <td>0.00</td>\n",
       "      <td>0.00</td>\n",
       "      <td>0.0</td>\n",
       "      <td>0.00</td>\n",
       "      <td>0.00</td>\n",
       "      <td>0.00</td>\n",
       "      <td>0.00</td>\n",
       "      <td>0.00</td>\n",
       "      <td>0.00</td>\n",
       "      <td>...</td>\n",
       "      <td>0.0</td>\n",
       "      <td>0.000</td>\n",
       "      <td>0.000</td>\n",
       "      <td>0.000</td>\n",
       "      <td>0.000</td>\n",
       "      <td>0.000</td>\n",
       "      <td>0.000</td>\n",
       "      <td>1.000</td>\n",
       "      <td>1</td>\n",
       "      <td>5</td>\n",
       "    </tr>\n",
       "    <tr>\n",
       "      <th>1</th>\n",
       "      <td>0.00</td>\n",
       "      <td>0.26</td>\n",
       "      <td>0.78</td>\n",
       "      <td>0.0</td>\n",
       "      <td>0.26</td>\n",
       "      <td>0.26</td>\n",
       "      <td>0.08</td>\n",
       "      <td>1.04</td>\n",
       "      <td>0.52</td>\n",
       "      <td>1.56</td>\n",
       "      <td>...</td>\n",
       "      <td>0.0</td>\n",
       "      <td>0.096</td>\n",
       "      <td>0.234</td>\n",
       "      <td>0.000</td>\n",
       "      <td>0.358</td>\n",
       "      <td>0.261</td>\n",
       "      <td>0.110</td>\n",
       "      <td>3.554</td>\n",
       "      <td>54</td>\n",
       "      <td>981</td>\n",
       "    </tr>\n",
       "    <tr>\n",
       "      <th>2</th>\n",
       "      <td>0.00</td>\n",
       "      <td>0.00</td>\n",
       "      <td>1.21</td>\n",
       "      <td>0.0</td>\n",
       "      <td>0.00</td>\n",
       "      <td>2.43</td>\n",
       "      <td>0.00</td>\n",
       "      <td>0.00</td>\n",
       "      <td>0.00</td>\n",
       "      <td>0.00</td>\n",
       "      <td>...</td>\n",
       "      <td>0.0</td>\n",
       "      <td>0.000</td>\n",
       "      <td>0.211</td>\n",
       "      <td>0.000</td>\n",
       "      <td>0.211</td>\n",
       "      <td>0.000</td>\n",
       "      <td>0.000</td>\n",
       "      <td>1.000</td>\n",
       "      <td>1</td>\n",
       "      <td>11</td>\n",
       "    </tr>\n",
       "    <tr>\n",
       "      <th>3</th>\n",
       "      <td>0.00</td>\n",
       "      <td>0.90</td>\n",
       "      <td>0.00</td>\n",
       "      <td>0.0</td>\n",
       "      <td>0.00</td>\n",
       "      <td>0.00</td>\n",
       "      <td>0.00</td>\n",
       "      <td>0.00</td>\n",
       "      <td>0.00</td>\n",
       "      <td>0.00</td>\n",
       "      <td>...</td>\n",
       "      <td>0.0</td>\n",
       "      <td>0.000</td>\n",
       "      <td>0.000</td>\n",
       "      <td>0.000</td>\n",
       "      <td>0.165</td>\n",
       "      <td>0.165</td>\n",
       "      <td>0.000</td>\n",
       "      <td>6.266</td>\n",
       "      <td>41</td>\n",
       "      <td>94</td>\n",
       "    </tr>\n",
       "    <tr>\n",
       "      <th>4</th>\n",
       "      <td>0.00</td>\n",
       "      <td>0.00</td>\n",
       "      <td>0.00</td>\n",
       "      <td>0.0</td>\n",
       "      <td>0.00</td>\n",
       "      <td>0.49</td>\n",
       "      <td>0.00</td>\n",
       "      <td>0.49</td>\n",
       "      <td>0.00</td>\n",
       "      <td>0.00</td>\n",
       "      <td>...</td>\n",
       "      <td>0.0</td>\n",
       "      <td>0.000</td>\n",
       "      <td>0.228</td>\n",
       "      <td>0.000</td>\n",
       "      <td>0.000</td>\n",
       "      <td>0.000</td>\n",
       "      <td>0.000</td>\n",
       "      <td>1.962</td>\n",
       "      <td>5</td>\n",
       "      <td>106</td>\n",
       "    </tr>\n",
       "    <tr>\n",
       "      <th>...</th>\n",
       "      <td>...</td>\n",
       "      <td>...</td>\n",
       "      <td>...</td>\n",
       "      <td>...</td>\n",
       "      <td>...</td>\n",
       "      <td>...</td>\n",
       "      <td>...</td>\n",
       "      <td>...</td>\n",
       "      <td>...</td>\n",
       "      <td>...</td>\n",
       "      <td>...</td>\n",
       "      <td>...</td>\n",
       "      <td>...</td>\n",
       "      <td>...</td>\n",
       "      <td>...</td>\n",
       "      <td>...</td>\n",
       "      <td>...</td>\n",
       "      <td>...</td>\n",
       "      <td>...</td>\n",
       "      <td>...</td>\n",
       "      <td>...</td>\n",
       "    </tr>\n",
       "    <tr>\n",
       "      <th>995</th>\n",
       "      <td>0.05</td>\n",
       "      <td>0.05</td>\n",
       "      <td>0.40</td>\n",
       "      <td>0.0</td>\n",
       "      <td>0.34</td>\n",
       "      <td>0.00</td>\n",
       "      <td>0.00</td>\n",
       "      <td>0.00</td>\n",
       "      <td>0.57</td>\n",
       "      <td>0.05</td>\n",
       "      <td>...</td>\n",
       "      <td>0.0</td>\n",
       "      <td>0.019</td>\n",
       "      <td>0.099</td>\n",
       "      <td>0.000</td>\n",
       "      <td>0.089</td>\n",
       "      <td>0.079</td>\n",
       "      <td>0.009</td>\n",
       "      <td>4.913</td>\n",
       "      <td>95</td>\n",
       "      <td>1312</td>\n",
       "    </tr>\n",
       "    <tr>\n",
       "      <th>996</th>\n",
       "      <td>0.00</td>\n",
       "      <td>0.00</td>\n",
       "      <td>0.00</td>\n",
       "      <td>0.0</td>\n",
       "      <td>0.00</td>\n",
       "      <td>0.00</td>\n",
       "      <td>0.00</td>\n",
       "      <td>0.00</td>\n",
       "      <td>0.00</td>\n",
       "      <td>0.00</td>\n",
       "      <td>...</td>\n",
       "      <td>0.0</td>\n",
       "      <td>0.000</td>\n",
       "      <td>0.000</td>\n",
       "      <td>0.000</td>\n",
       "      <td>0.000</td>\n",
       "      <td>0.000</td>\n",
       "      <td>0.000</td>\n",
       "      <td>2.000</td>\n",
       "      <td>12</td>\n",
       "      <td>42</td>\n",
       "    </tr>\n",
       "    <tr>\n",
       "      <th>997</th>\n",
       "      <td>0.10</td>\n",
       "      <td>0.50</td>\n",
       "      <td>0.60</td>\n",
       "      <td>0.0</td>\n",
       "      <td>0.30</td>\n",
       "      <td>0.20</td>\n",
       "      <td>0.00</td>\n",
       "      <td>0.00</td>\n",
       "      <td>0.10</td>\n",
       "      <td>0.40</td>\n",
       "      <td>...</td>\n",
       "      <td>0.0</td>\n",
       "      <td>0.780</td>\n",
       "      <td>0.037</td>\n",
       "      <td>0.000</td>\n",
       "      <td>5.942</td>\n",
       "      <td>1.334</td>\n",
       "      <td>0.000</td>\n",
       "      <td>5.838</td>\n",
       "      <td>54</td>\n",
       "      <td>724</td>\n",
       "    </tr>\n",
       "    <tr>\n",
       "      <th>998</th>\n",
       "      <td>0.00</td>\n",
       "      <td>0.00</td>\n",
       "      <td>0.00</td>\n",
       "      <td>0.0</td>\n",
       "      <td>1.21</td>\n",
       "      <td>0.00</td>\n",
       "      <td>0.00</td>\n",
       "      <td>0.00</td>\n",
       "      <td>0.00</td>\n",
       "      <td>0.00</td>\n",
       "      <td>...</td>\n",
       "      <td>0.0</td>\n",
       "      <td>0.567</td>\n",
       "      <td>0.378</td>\n",
       "      <td>0.000</td>\n",
       "      <td>0.000</td>\n",
       "      <td>0.000</td>\n",
       "      <td>0.000</td>\n",
       "      <td>1.333</td>\n",
       "      <td>3</td>\n",
       "      <td>24</td>\n",
       "    </tr>\n",
       "    <tr>\n",
       "      <th>999</th>\n",
       "      <td>0.00</td>\n",
       "      <td>0.00</td>\n",
       "      <td>0.00</td>\n",
       "      <td>0.0</td>\n",
       "      <td>0.00</td>\n",
       "      <td>0.60</td>\n",
       "      <td>0.00</td>\n",
       "      <td>0.00</td>\n",
       "      <td>0.00</td>\n",
       "      <td>1.21</td>\n",
       "      <td>...</td>\n",
       "      <td>0.0</td>\n",
       "      <td>0.207</td>\n",
       "      <td>0.518</td>\n",
       "      <td>0.414</td>\n",
       "      <td>0.310</td>\n",
       "      <td>0.000</td>\n",
       "      <td>0.000</td>\n",
       "      <td>4.897</td>\n",
       "      <td>17</td>\n",
       "      <td>191</td>\n",
       "    </tr>\n",
       "  </tbody>\n",
       "</table>\n",
       "<p>1000 rows × 57 columns</p>\n",
       "</div>"
      ],
      "text/plain": [
       "       F1    F2    F3   F4    F5    F6    F7    F8    F9   F10  ...  F48  \\\n",
       "0    0.00  0.00  0.00  0.0  0.00  0.00  0.00  0.00  0.00  0.00  ...  0.0   \n",
       "1    0.00  0.26  0.78  0.0  0.26  0.26  0.08  1.04  0.52  1.56  ...  0.0   \n",
       "2    0.00  0.00  1.21  0.0  0.00  2.43  0.00  0.00  0.00  0.00  ...  0.0   \n",
       "3    0.00  0.90  0.00  0.0  0.00  0.00  0.00  0.00  0.00  0.00  ...  0.0   \n",
       "4    0.00  0.00  0.00  0.0  0.00  0.49  0.00  0.49  0.00  0.00  ...  0.0   \n",
       "..    ...   ...   ...  ...   ...   ...   ...   ...   ...   ...  ...  ...   \n",
       "995  0.05  0.05  0.40  0.0  0.34  0.00  0.00  0.00  0.57  0.05  ...  0.0   \n",
       "996  0.00  0.00  0.00  0.0  0.00  0.00  0.00  0.00  0.00  0.00  ...  0.0   \n",
       "997  0.10  0.50  0.60  0.0  0.30  0.20  0.00  0.00  0.10  0.40  ...  0.0   \n",
       "998  0.00  0.00  0.00  0.0  1.21  0.00  0.00  0.00  0.00  0.00  ...  0.0   \n",
       "999  0.00  0.00  0.00  0.0  0.00  0.60  0.00  0.00  0.00  1.21  ...  0.0   \n",
       "\n",
       "       F49    F50    F51    F52    F53    F54    F55  F56   F57  \n",
       "0    0.000  0.000  0.000  0.000  0.000  0.000  1.000    1     5  \n",
       "1    0.096  0.234  0.000  0.358  0.261  0.110  3.554   54   981  \n",
       "2    0.000  0.211  0.000  0.211  0.000  0.000  1.000    1    11  \n",
       "3    0.000  0.000  0.000  0.165  0.165  0.000  6.266   41    94  \n",
       "4    0.000  0.228  0.000  0.000  0.000  0.000  1.962    5   106  \n",
       "..     ...    ...    ...    ...    ...    ...    ...  ...   ...  \n",
       "995  0.019  0.099  0.000  0.089  0.079  0.009  4.913   95  1312  \n",
       "996  0.000  0.000  0.000  0.000  0.000  0.000  2.000   12    42  \n",
       "997  0.780  0.037  0.000  5.942  1.334  0.000  5.838   54   724  \n",
       "998  0.567  0.378  0.000  0.000  0.000  0.000  1.333    3    24  \n",
       "999  0.207  0.518  0.414  0.310  0.000  0.000  4.897   17   191  \n",
       "\n",
       "[1000 rows x 57 columns]"
      ]
     },
     "execution_count": 52,
     "metadata": {},
     "output_type": "execute_result"
    }
   ],
   "source": [
    "x_val"
   ]
  },
  {
   "cell_type": "code",
   "execution_count": 176,
   "id": "856c04a5",
   "metadata": {},
   "outputs": [
    {
     "name": "stdout",
     "output_type": "stream",
     "text": [
      "0.39600111080255485\n",
      "0.3959259259259259\n",
      "0.39622641509433965\n"
     ]
    }
   ],
   "source": [
    "print(train['categ'].mean())\n",
    "print(y_train.mean())\n",
    "print(y_test.mean())"
   ]
  },
  {
   "cell_type": "code",
   "execution_count": 12,
   "id": "6ca585a7",
   "metadata": {},
   "outputs": [
    {
     "data": {
      "text/plain": [
       "[57]"
      ]
     },
     "execution_count": 12,
     "metadata": {},
     "output_type": "execute_result"
    }
   ],
   "source": [
    "input_shape = [x_train.shape[1]]\n",
    "input_shape"
   ]
  },
  {
   "cell_type": "code",
   "execution_count": 100,
   "id": "fce8a547",
   "metadata": {},
   "outputs": [
    {
     "name": "stdout",
     "output_type": "stream",
     "text": [
      "Epoch 1/200\n",
      "6/6 [==============================] - 2s 55ms/step - loss: 0.5791 - binary_accuracy: 0.7189 - val_loss: 0.4828 - val_binary_accuracy: 0.8713\n",
      "Epoch 2/200\n",
      "6/6 [==============================] - 0s 18ms/step - loss: 0.2872 - binary_accuracy: 0.8926 - val_loss: 0.3937 - val_binary_accuracy: 0.8857\n",
      "Epoch 3/200\n",
      "6/6 [==============================] - 0s 16ms/step - loss: 0.2533 - binary_accuracy: 0.9022 - val_loss: 0.3572 - val_binary_accuracy: 0.8835\n",
      "Epoch 4/200\n",
      "6/6 [==============================] - 0s 15ms/step - loss: 0.2339 - binary_accuracy: 0.9115 - val_loss: 0.3390 - val_binary_accuracy: 0.8812\n",
      "Epoch 5/200\n",
      "6/6 [==============================] - 0s 18ms/step - loss: 0.2067 - binary_accuracy: 0.9211 - val_loss: 0.3259 - val_binary_accuracy: 0.8768\n",
      "Epoch 6/200\n",
      "6/6 [==============================] - 0s 16ms/step - loss: 0.1997 - binary_accuracy: 0.9285 - val_loss: 0.3151 - val_binary_accuracy: 0.8779\n",
      "Epoch 7/200\n",
      "6/6 [==============================] - 0s 15ms/step - loss: 0.1968 - binary_accuracy: 0.9270 - val_loss: 0.3051 - val_binary_accuracy: 0.8801\n",
      "Epoch 8/200\n",
      "6/6 [==============================] - 0s 14ms/step - loss: 0.1808 - binary_accuracy: 0.9352 - val_loss: 0.2969 - val_binary_accuracy: 0.8768\n",
      "Epoch 9/200\n",
      "6/6 [==============================] - 0s 14ms/step - loss: 0.1751 - binary_accuracy: 0.9322 - val_loss: 0.2861 - val_binary_accuracy: 0.8912\n",
      "Epoch 10/200\n",
      "6/6 [==============================] - 0s 13ms/step - loss: 0.1703 - binary_accuracy: 0.9367 - val_loss: 0.2763 - val_binary_accuracy: 0.9112\n",
      "Epoch 11/200\n",
      "6/6 [==============================] - 0s 15ms/step - loss: 0.1597 - binary_accuracy: 0.9381 - val_loss: 0.2679 - val_binary_accuracy: 0.9079\n",
      "Epoch 12/200\n",
      "6/6 [==============================] - 0s 16ms/step - loss: 0.1705 - binary_accuracy: 0.9396 - val_loss: 0.2639 - val_binary_accuracy: 0.9134\n",
      "Epoch 13/200\n",
      "6/6 [==============================] - 0s 17ms/step - loss: 0.1582 - binary_accuracy: 0.9385 - val_loss: 0.2593 - val_binary_accuracy: 0.9190\n",
      "Epoch 14/200\n",
      "6/6 [==============================] - 0s 19ms/step - loss: 0.1541 - binary_accuracy: 0.9430 - val_loss: 0.2531 - val_binary_accuracy: 0.9245\n",
      "Epoch 15/200\n",
      "6/6 [==============================] - 0s 21ms/step - loss: 0.1554 - binary_accuracy: 0.9419 - val_loss: 0.2462 - val_binary_accuracy: 0.9301\n",
      "Epoch 16/200\n",
      "6/6 [==============================] - 0s 19ms/step - loss: 0.1369 - binary_accuracy: 0.9478 - val_loss: 0.2398 - val_binary_accuracy: 0.9290\n",
      "Epoch 17/200\n",
      "6/6 [==============================] - 0s 21ms/step - loss: 0.1341 - binary_accuracy: 0.9485 - val_loss: 0.2333 - val_binary_accuracy: 0.9301\n",
      "Epoch 18/200\n",
      "6/6 [==============================] - 0s 17ms/step - loss: 0.1401 - binary_accuracy: 0.9456 - val_loss: 0.2301 - val_binary_accuracy: 0.9267\n",
      "Epoch 19/200\n",
      "6/6 [==============================] - 0s 19ms/step - loss: 0.1431 - binary_accuracy: 0.9415 - val_loss: 0.2261 - val_binary_accuracy: 0.9279\n",
      "Epoch 20/200\n",
      "6/6 [==============================] - 0s 18ms/step - loss: 0.1273 - binary_accuracy: 0.9548 - val_loss: 0.2216 - val_binary_accuracy: 0.9323\n",
      "Epoch 21/200\n",
      "6/6 [==============================] - 0s 21ms/step - loss: 0.1271 - binary_accuracy: 0.9563 - val_loss: 0.2158 - val_binary_accuracy: 0.9345\n",
      "Epoch 22/200\n",
      "6/6 [==============================] - 0s 19ms/step - loss: 0.1224 - binary_accuracy: 0.9511 - val_loss: 0.2132 - val_binary_accuracy: 0.9345\n",
      "Epoch 23/200\n",
      "6/6 [==============================] - 0s 17ms/step - loss: 0.1339 - binary_accuracy: 0.9485 - val_loss: 0.2116 - val_binary_accuracy: 0.9356\n",
      "Epoch 24/200\n",
      "6/6 [==============================] - 0s 15ms/step - loss: 0.1233 - binary_accuracy: 0.9556 - val_loss: 0.2097 - val_binary_accuracy: 0.9412\n",
      "Epoch 25/200\n",
      "6/6 [==============================] - 0s 15ms/step - loss: 0.1274 - binary_accuracy: 0.9541 - val_loss: 0.2050 - val_binary_accuracy: 0.9345\n",
      "Epoch 26/200\n",
      "6/6 [==============================] - 0s 14ms/step - loss: 0.1204 - binary_accuracy: 0.9567 - val_loss: 0.2028 - val_binary_accuracy: 0.9345\n",
      "Epoch 27/200\n",
      "6/6 [==============================] - 0s 14ms/step - loss: 0.1139 - binary_accuracy: 0.9589 - val_loss: 0.2016 - val_binary_accuracy: 0.9367\n",
      "Epoch 28/200\n",
      "6/6 [==============================] - 0s 13ms/step - loss: 0.1103 - binary_accuracy: 0.9615 - val_loss: 0.1980 - val_binary_accuracy: 0.9367\n",
      "Epoch 29/200\n",
      "6/6 [==============================] - 0s 14ms/step - loss: 0.1177 - binary_accuracy: 0.9552 - val_loss: 0.1939 - val_binary_accuracy: 0.9334\n",
      "Epoch 30/200\n",
      "6/6 [==============================] - 0s 15ms/step - loss: 0.1167 - binary_accuracy: 0.9552 - val_loss: 0.1901 - val_binary_accuracy: 0.9345\n",
      "Epoch 31/200\n",
      "6/6 [==============================] - 0s 14ms/step - loss: 0.1097 - binary_accuracy: 0.9552 - val_loss: 0.1913 - val_binary_accuracy: 0.9367\n",
      "Epoch 32/200\n",
      "6/6 [==============================] - 0s 14ms/step - loss: 0.1116 - binary_accuracy: 0.9604 - val_loss: 0.1920 - val_binary_accuracy: 0.9390\n",
      "Epoch 33/200\n",
      "6/6 [==============================] - 0s 16ms/step - loss: 0.1054 - binary_accuracy: 0.9581 - val_loss: 0.1916 - val_binary_accuracy: 0.9378\n",
      "Epoch 34/200\n",
      "6/6 [==============================] - 0s 17ms/step - loss: 0.1069 - binary_accuracy: 0.9607 - val_loss: 0.1902 - val_binary_accuracy: 0.9345\n",
      "Epoch 35/200\n",
      "6/6 [==============================] - 0s 14ms/step - loss: 0.1101 - binary_accuracy: 0.9570 - val_loss: 0.1870 - val_binary_accuracy: 0.9401\n",
      "Epoch 36/200\n",
      "6/6 [==============================] - 0s 14ms/step - loss: 0.1054 - binary_accuracy: 0.9626 - val_loss: 0.1866 - val_binary_accuracy: 0.9401\n",
      "Epoch 37/200\n",
      "6/6 [==============================] - 0s 13ms/step - loss: 0.1065 - binary_accuracy: 0.9604 - val_loss: 0.1917 - val_binary_accuracy: 0.9390\n",
      "Epoch 38/200\n",
      "6/6 [==============================] - 0s 15ms/step - loss: 0.0991 - binary_accuracy: 0.9622 - val_loss: 0.1950 - val_binary_accuracy: 0.9356\n",
      "Epoch 39/200\n",
      "6/6 [==============================] - 0s 15ms/step - loss: 0.0980 - binary_accuracy: 0.9615 - val_loss: 0.1914 - val_binary_accuracy: 0.9367\n",
      "Epoch 40/200\n",
      "6/6 [==============================] - 0s 15ms/step - loss: 0.1034 - binary_accuracy: 0.9585 - val_loss: 0.1893 - val_binary_accuracy: 0.9378\n"
     ]
    }
   ],
   "source": [
    "## --- Preliminary Model --- ##\n",
    "model = keras.Sequential([\n",
    "    layers.BatchNormalization(input_shape = input_shape),\n",
    "    layers.Dense(256, activation = 'relu'),\n",
    "    layers.BatchNormalization(),\n",
    "    layers.Dropout(0.3),\n",
    "    layers.Dense(256, activation='relu'),\n",
    "    layers.BatchNormalization(),\n",
    "    layers.Dropout(0.3),\n",
    "    layers.Dense(1, activation = 'sigmoid')\n",
    "])\n",
    "\n",
    "model.compile(optimizer = 'adam',\n",
    "             loss = 'binary_crossentropy',\n",
    "             metrics = ['binary_accuracy'])\n",
    "\n",
    "early_stopping = keras.callbacks.EarlyStopping(\n",
    "    patience = 5, \n",
    "    min_delta = 0.001,\n",
    "    restore_best_weights = True\n",
    ")\n",
    "\n",
    "history = model.fit(\n",
    "    x_train, y_train, \n",
    "    validation_data = (x_test, y_test),\n",
    "    batch_size = 512, \n",
    "    epochs = 200, \n",
    "    callbacks = [early_stopping]\n",
    ")"
   ]
  },
  {
   "cell_type": "code",
   "execution_count": 101,
   "id": "0b0c4858",
   "metadata": {},
   "outputs": [
    {
     "data": {
      "text/plain": [
       "<AxesSubplot:title={'center':'Accuracy'}>"
      ]
     },
     "execution_count": 101,
     "metadata": {},
     "output_type": "execute_result"
    },
    {
     "data": {
      "image/png": "[encoded data removed]",
      "text/plain": [
       "<Figure size 432x288 with 1 Axes>"
      ]
     },
     "metadata": {
      "needs_background": "light"
     },
     "output_type": "display_data"
    },
    {
     "data": {
      "image/png": "[encoded data removed]",
      "text/plain": [
       "<Figure size 432x288 with 1 Axes>"
      ]
     },
     "metadata": {
      "needs_background": "light"
     },
     "output_type": "display_data"
    }
   ],
   "source": [
    "history_df = pd.DataFrame(history.history)\n",
    "history_df.loc[:, ['loss','val_loss']].plot(title=\"Cross-Entropy\")\n",
    "history_df.loc[:, ['binary_accuracy', 'val_binary_accuracy']].plot(title = 'Accuracy')"
   ]
  },
  {
   "cell_type": "code",
   "execution_count": 13,
   "id": "1424b873",
   "metadata": {},
   "outputs": [],
   "source": [
    "def predTransform(pred):\n",
    "    pred1 = np.ravel(pred)\n",
    "    return np.where(pred1 < 0.5, 0, 1)\n",
    "def get_mae(y_true, pred):\n",
    "    pred = predTransform(pred)\n",
    "    return mean_absolute_error(y_true,pred)"
   ]
  },
  {
   "cell_type": "code",
   "execution_count": 102,
   "id": "c42a9c75",
   "metadata": {},
   "outputs": [
    {
     "name": "stdout",
     "output_type": "stream",
     "text": [
      "29/29 [==============================] - 0s 2ms/step\n",
      "0.9400665926748057\n"
     ]
    }
   ],
   "source": [
    "pred = model.predict(x_test)\n",
    "pred = predTransform(pred)\n",
    "score = accuracy_score(y_test,pred)\n",
    "print(score)"
   ]
  },
  {
   "cell_type": "code",
   "execution_count": 32,
   "id": "8a77a05a",
   "metadata": {},
   "outputs": [],
   "source": [
    "### --- Model Revision --- ###\n",
    "#num nodes, size layers, activ func\n",
    "#batch size, num epochs \n",
    "#def create_model(hidden_layers, nodes, dropout):\n",
    "#    model = keras.Sequential()\n",
    "#    model.add(layers.BatchNormalization(input_shape=[57]))\n",
    "#    for layer in layers:\n",
    "#        model.add(layers.Dense(nodes, activation='relu'))\n",
    "#        model.add(layers.BatchNormalization())\n",
    "#        model.add(layers.Dropout(dropout))\n",
    "#    model.add(layers.Dense(1, activation='sigmoid'))\n",
    "#    model.compile(optimizer = 'adam',\n",
    "#             loss = 'binary_crossentropy',\n",
    "#             metrics = ['binary_accuracy'])\n",
    "#    return model\n",
    "\n",
    "#model = KerasClassifier(build_fn=create_model, epochs=200, batch_size=256, verbose=0)\n",
    "#param_grid = {'lay': [[1], [2, 3]], 'nodes': [128, 256, 512], 'dropout': [0.2, 0.3]}\n",
    "#grid = GridSearchCV(estimator=model, param_grid=param_grid, cv=3)\n",
    "#grid_result = grid.fit(x_train, y_train)\n",
    "#print(\"Best: %f using %s\" % (grid_result.best_score_, grid_result.best_params_))\n",
    "#grid_result = grid.fit(x_train, y_train)\n",
    "#model = KerasClassifier(build_fn=create_model, verbose=0)"
   ]
  },
  {
   "cell_type": "code",
   "execution_count": 23,
   "id": "d7595f82",
   "metadata": {},
   "outputs": [
    {
     "name": "stdout",
     "output_type": "stream",
     "text": [
      "Epoch 1/1000\n",
      "6/6 [==============================] - 1s 90ms/step - loss: 0.7726 - binary_accuracy: 0.5552 - val_loss: 0.6674 - val_binary_accuracy: 0.6238\n",
      "Epoch 2/1000\n",
      "6/6 [==============================] - 0s 10ms/step - loss: 0.6716 - binary_accuracy: 0.6407 - val_loss: 0.5877 - val_binary_accuracy: 0.6992\n",
      "Epoch 3/1000\n",
      "6/6 [==============================] - 0s 10ms/step - loss: 0.5913 - binary_accuracy: 0.7107 - val_loss: 0.5240 - val_binary_accuracy: 0.7647\n",
      "Epoch 4/1000\n",
      "6/6 [==============================] - 0s 7ms/step - loss: 0.5264 - binary_accuracy: 0.7733 - val_loss: 0.4747 - val_binary_accuracy: 0.8024\n",
      "Epoch 5/1000\n",
      "6/6 [==============================] - 0s 7ms/step - loss: 0.4795 - binary_accuracy: 0.7974 - val_loss: 0.4354 - val_binary_accuracy: 0.8335\n",
      "Epoch 6/1000\n",
      "6/6 [==============================] - 0s 8ms/step - loss: 0.4449 - binary_accuracy: 0.8252 - val_loss: 0.4032 - val_binary_accuracy: 0.8524\n",
      "Epoch 7/1000\n",
      "6/6 [==============================] - 0s 9ms/step - loss: 0.4078 - binary_accuracy: 0.8437 - val_loss: 0.3773 - val_binary_accuracy: 0.8602\n",
      "Epoch 8/1000\n",
      "6/6 [==============================] - 0s 8ms/step - loss: 0.3847 - binary_accuracy: 0.8556 - val_loss: 0.3560 - val_binary_accuracy: 0.8724\n",
      "Epoch 9/1000\n",
      "6/6 [==============================] - 0s 8ms/step - loss: 0.3584 - binary_accuracy: 0.8648 - val_loss: 0.3380 - val_binary_accuracy: 0.8846\n",
      "Epoch 10/1000\n",
      "6/6 [==============================] - 0s 11ms/step - loss: 0.3397 - binary_accuracy: 0.8789 - val_loss: 0.3232 - val_binary_accuracy: 0.9012\n",
      "Epoch 11/1000\n",
      "6/6 [==============================] - 0s 9ms/step - loss: 0.3239 - binary_accuracy: 0.8819 - val_loss: 0.3103 - val_binary_accuracy: 0.9079\n",
      "Epoch 12/1000\n",
      "6/6 [==============================] - 0s 10ms/step - loss: 0.3127 - binary_accuracy: 0.8856 - val_loss: 0.2996 - val_binary_accuracy: 0.9123\n",
      "Epoch 13/1000\n",
      "6/6 [==============================] - 0s 10ms/step - loss: 0.2966 - binary_accuracy: 0.8989 - val_loss: 0.2900 - val_binary_accuracy: 0.9145\n",
      "Epoch 14/1000\n",
      "6/6 [==============================] - 0s 9ms/step - loss: 0.2874 - binary_accuracy: 0.8941 - val_loss: 0.2819 - val_binary_accuracy: 0.9179\n",
      "Epoch 15/1000\n",
      "6/6 [==============================] - 0s 9ms/step - loss: 0.2816 - binary_accuracy: 0.8996 - val_loss: 0.2744 - val_binary_accuracy: 0.9179\n",
      "Epoch 16/1000\n",
      "6/6 [==============================] - 0s 9ms/step - loss: 0.2695 - binary_accuracy: 0.9122 - val_loss: 0.2680 - val_binary_accuracy: 0.9201\n",
      "Epoch 17/1000\n",
      "6/6 [==============================] - 0s 8ms/step - loss: 0.2646 - binary_accuracy: 0.9104 - val_loss: 0.2624 - val_binary_accuracy: 0.9190\n",
      "Epoch 18/1000\n",
      "6/6 [==============================] - 0s 9ms/step - loss: 0.2585 - binary_accuracy: 0.9115 - val_loss: 0.2572 - val_binary_accuracy: 0.9212\n",
      "Epoch 19/1000\n",
      "6/6 [==============================] - 0s 11ms/step - loss: 0.2533 - binary_accuracy: 0.9119 - val_loss: 0.2526 - val_binary_accuracy: 0.9245\n",
      "Epoch 20/1000\n",
      "6/6 [==============================] - 0s 10ms/step - loss: 0.2462 - binary_accuracy: 0.9189 - val_loss: 0.2482 - val_binary_accuracy: 0.9245\n",
      "Epoch 21/1000\n",
      "6/6 [==============================] - 0s 9ms/step - loss: 0.2425 - binary_accuracy: 0.9193 - val_loss: 0.2443 - val_binary_accuracy: 0.9234\n",
      "Epoch 22/1000\n",
      "6/6 [==============================] - 0s 8ms/step - loss: 0.2380 - binary_accuracy: 0.9207 - val_loss: 0.2410 - val_binary_accuracy: 0.9234\n",
      "Epoch 23/1000\n",
      "6/6 [==============================] - 0s 9ms/step - loss: 0.2316 - binary_accuracy: 0.9189 - val_loss: 0.2378 - val_binary_accuracy: 0.9267\n",
      "Epoch 24/1000\n",
      "6/6 [==============================] - 0s 8ms/step - loss: 0.2302 - binary_accuracy: 0.9211 - val_loss: 0.2345 - val_binary_accuracy: 0.9256\n",
      "Epoch 25/1000\n",
      "6/6 [==============================] - 0s 8ms/step - loss: 0.2255 - binary_accuracy: 0.9259 - val_loss: 0.2315 - val_binary_accuracy: 0.9267\n",
      "Epoch 26/1000\n",
      "6/6 [==============================] - 0s 8ms/step - loss: 0.2227 - binary_accuracy: 0.9233 - val_loss: 0.2288 - val_binary_accuracy: 0.9267\n",
      "Epoch 27/1000\n",
      "6/6 [==============================] - 0s 9ms/step - loss: 0.2188 - binary_accuracy: 0.9244 - val_loss: 0.2264 - val_binary_accuracy: 0.9290\n",
      "Epoch 28/1000\n",
      "6/6 [==============================] - 0s 9ms/step - loss: 0.2159 - binary_accuracy: 0.9256 - val_loss: 0.2243 - val_binary_accuracy: 0.9290\n",
      "Epoch 29/1000\n",
      "6/6 [==============================] - 0s 9ms/step - loss: 0.2128 - binary_accuracy: 0.9289 - val_loss: 0.2222 - val_binary_accuracy: 0.9312\n",
      "Epoch 30/1000\n",
      "6/6 [==============================] - 0s 9ms/step - loss: 0.2131 - binary_accuracy: 0.9307 - val_loss: 0.2201 - val_binary_accuracy: 0.9323\n",
      "Epoch 31/1000\n",
      "6/6 [==============================] - 0s 10ms/step - loss: 0.2076 - binary_accuracy: 0.9304 - val_loss: 0.2181 - val_binary_accuracy: 0.9312\n",
      "Epoch 32/1000\n",
      "6/6 [==============================] - 0s 10ms/step - loss: 0.2050 - binary_accuracy: 0.9326 - val_loss: 0.2163 - val_binary_accuracy: 0.9323\n",
      "Epoch 33/1000\n",
      "6/6 [==============================] - 0s 10ms/step - loss: 0.2040 - binary_accuracy: 0.9330 - val_loss: 0.2145 - val_binary_accuracy: 0.9334\n",
      "Epoch 34/1000\n",
      "6/6 [==============================] - 0s 9ms/step - loss: 0.2022 - binary_accuracy: 0.9322 - val_loss: 0.2127 - val_binary_accuracy: 0.9345\n",
      "Epoch 35/1000\n",
      "6/6 [==============================] - 0s 9ms/step - loss: 0.1997 - binary_accuracy: 0.9348 - val_loss: 0.2110 - val_binary_accuracy: 0.9323\n",
      "Epoch 36/1000\n",
      "6/6 [==============================] - 0s 10ms/step - loss: 0.2004 - binary_accuracy: 0.9319 - val_loss: 0.2093 - val_binary_accuracy: 0.9334\n",
      "Epoch 37/1000\n",
      "6/6 [==============================] - 0s 12ms/step - loss: 0.1928 - binary_accuracy: 0.9326 - val_loss: 0.2075 - val_binary_accuracy: 0.9312\n",
      "Epoch 38/1000\n",
      "6/6 [==============================] - 0s 12ms/step - loss: 0.1942 - binary_accuracy: 0.9356 - val_loss: 0.2060 - val_binary_accuracy: 0.9334\n",
      "Epoch 39/1000\n",
      "6/6 [==============================] - 0s 11ms/step - loss: 0.1911 - binary_accuracy: 0.9356 - val_loss: 0.2047 - val_binary_accuracy: 0.9312\n",
      "Epoch 40/1000\n",
      "6/6 [==============================] - 0s 9ms/step - loss: 0.1939 - binary_accuracy: 0.9296 - val_loss: 0.2038 - val_binary_accuracy: 0.9323\n",
      "Epoch 41/1000\n",
      "6/6 [==============================] - 0s 11ms/step - loss: 0.1902 - binary_accuracy: 0.9304 - val_loss: 0.2024 - val_binary_accuracy: 0.9312\n",
      "Epoch 42/1000\n",
      "6/6 [==============================] - 0s 9ms/step - loss: 0.1875 - binary_accuracy: 0.9285 - val_loss: 0.2010 - val_binary_accuracy: 0.9312\n",
      "Epoch 43/1000\n",
      "6/6 [==============================] - 0s 8ms/step - loss: 0.1895 - binary_accuracy: 0.9344 - val_loss: 0.1996 - val_binary_accuracy: 0.9323\n",
      "Epoch 44/1000\n",
      "6/6 [==============================] - 0s 9ms/step - loss: 0.1855 - binary_accuracy: 0.9330 - val_loss: 0.1985 - val_binary_accuracy: 0.9323\n",
      "Epoch 45/1000\n",
      "6/6 [==============================] - 0s 8ms/step - loss: 0.1822 - binary_accuracy: 0.9330 - val_loss: 0.1977 - val_binary_accuracy: 0.9301\n",
      "Epoch 46/1000\n",
      "6/6 [==============================] - 0s 8ms/step - loss: 0.1826 - binary_accuracy: 0.9344 - val_loss: 0.1968 - val_binary_accuracy: 0.9312\n",
      "Epoch 47/1000\n",
      "6/6 [==============================] - 0s 9ms/step - loss: 0.1776 - binary_accuracy: 0.9341 - val_loss: 0.1957 - val_binary_accuracy: 0.9334\n",
      "Epoch 48/1000\n",
      "6/6 [==============================] - 0s 9ms/step - loss: 0.1782 - binary_accuracy: 0.9396 - val_loss: 0.1941 - val_binary_accuracy: 0.9334\n",
      "Epoch 49/1000\n",
      "6/6 [==============================] - 0s 8ms/step - loss: 0.1818 - binary_accuracy: 0.9304 - val_loss: 0.1925 - val_binary_accuracy: 0.9323\n",
      "Epoch 50/1000\n",
      "6/6 [==============================] - 0s 10ms/step - loss: 0.1801 - binary_accuracy: 0.9322 - val_loss: 0.1913 - val_binary_accuracy: 0.9334\n",
      "Epoch 51/1000\n",
      "6/6 [==============================] - 0s 11ms/step - loss: 0.1784 - binary_accuracy: 0.9359 - val_loss: 0.1901 - val_binary_accuracy: 0.9345\n",
      "Epoch 52/1000\n",
      "6/6 [==============================] - 0s 10ms/step - loss: 0.1770 - binary_accuracy: 0.9326 - val_loss: 0.1890 - val_binary_accuracy: 0.9334\n",
      "Epoch 53/1000\n",
      "6/6 [==============================] - 0s 9ms/step - loss: 0.1761 - binary_accuracy: 0.9330 - val_loss: 0.1884 - val_binary_accuracy: 0.9345\n"
     ]
    },
    {
     "name": "stdout",
     "output_type": "stream",
     "text": [
      "Epoch 54/1000\n",
      "6/6 [==============================] - 0s 11ms/step - loss: 0.1730 - binary_accuracy: 0.9359 - val_loss: 0.1874 - val_binary_accuracy: 0.9345\n",
      "Epoch 55/1000\n",
      "6/6 [==============================] - 0s 12ms/step - loss: 0.1700 - binary_accuracy: 0.9378 - val_loss: 0.1862 - val_binary_accuracy: 0.9356\n",
      "Epoch 56/1000\n",
      "6/6 [==============================] - 0s 11ms/step - loss: 0.1709 - binary_accuracy: 0.9381 - val_loss: 0.1855 - val_binary_accuracy: 0.9356\n",
      "Epoch 57/1000\n",
      "6/6 [==============================] - 0s 9ms/step - loss: 0.1723 - binary_accuracy: 0.9363 - val_loss: 0.1848 - val_binary_accuracy: 0.9356\n",
      "Epoch 58/1000\n",
      "6/6 [==============================] - 0s 10ms/step - loss: 0.1689 - binary_accuracy: 0.9370 - val_loss: 0.1839 - val_binary_accuracy: 0.9367\n",
      "Epoch 59/1000\n",
      "6/6 [==============================] - 0s 10ms/step - loss: 0.1689 - binary_accuracy: 0.9393 - val_loss: 0.1833 - val_binary_accuracy: 0.9367\n",
      "Epoch 60/1000\n",
      "6/6 [==============================] - 0s 10ms/step - loss: 0.1671 - binary_accuracy: 0.9400 - val_loss: 0.1829 - val_binary_accuracy: 0.9367\n",
      "Epoch 61/1000\n",
      "6/6 [==============================] - 0s 8ms/step - loss: 0.1673 - binary_accuracy: 0.9400 - val_loss: 0.1823 - val_binary_accuracy: 0.9367\n",
      "Epoch 62/1000\n",
      "6/6 [==============================] - 0s 8ms/step - loss: 0.1647 - binary_accuracy: 0.9385 - val_loss: 0.1821 - val_binary_accuracy: 0.9356\n",
      "Epoch 63/1000\n",
      "6/6 [==============================] - 0s 11ms/step - loss: 0.1649 - binary_accuracy: 0.9452 - val_loss: 0.1809 - val_binary_accuracy: 0.9390\n",
      "Epoch 64/1000\n",
      "6/6 [==============================] - 0s 9ms/step - loss: 0.1675 - binary_accuracy: 0.9378 - val_loss: 0.1796 - val_binary_accuracy: 0.9390\n",
      "Epoch 65/1000\n",
      "6/6 [==============================] - 0s 9ms/step - loss: 0.1628 - binary_accuracy: 0.9407 - val_loss: 0.1786 - val_binary_accuracy: 0.9378\n",
      "Epoch 66/1000\n",
      "6/6 [==============================] - 0s 9ms/step - loss: 0.1661 - binary_accuracy: 0.9389 - val_loss: 0.1781 - val_binary_accuracy: 0.9401\n",
      "Epoch 67/1000\n",
      "6/6 [==============================] - 0s 10ms/step - loss: 0.1594 - binary_accuracy: 0.9415 - val_loss: 0.1777 - val_binary_accuracy: 0.9401\n",
      "Epoch 68/1000\n",
      "6/6 [==============================] - 0s 10ms/step - loss: 0.1612 - binary_accuracy: 0.9396 - val_loss: 0.1771 - val_binary_accuracy: 0.9390\n",
      "Epoch 69/1000\n",
      "6/6 [==============================] - 0s 9ms/step - loss: 0.1677 - binary_accuracy: 0.9385 - val_loss: 0.1765 - val_binary_accuracy: 0.9367\n",
      "Epoch 70/1000\n",
      "6/6 [==============================] - 0s 9ms/step - loss: 0.1589 - binary_accuracy: 0.9411 - val_loss: 0.1759 - val_binary_accuracy: 0.9367\n",
      "Epoch 71/1000\n",
      "6/6 [==============================] - 0s 11ms/step - loss: 0.1588 - binary_accuracy: 0.9407 - val_loss: 0.1744 - val_binary_accuracy: 0.9378\n",
      "Epoch 72/1000\n",
      "6/6 [==============================] - 0s 16ms/step - loss: 0.1550 - binary_accuracy: 0.9444 - val_loss: 0.1730 - val_binary_accuracy: 0.9401\n",
      "Epoch 73/1000\n",
      "6/6 [==============================] - 0s 10ms/step - loss: 0.1560 - binary_accuracy: 0.9407 - val_loss: 0.1723 - val_binary_accuracy: 0.9412\n",
      "Epoch 74/1000\n",
      "6/6 [==============================] - 0s 11ms/step - loss: 0.1579 - binary_accuracy: 0.9411 - val_loss: 0.1723 - val_binary_accuracy: 0.9390\n",
      "Epoch 75/1000\n",
      "6/6 [==============================] - 0s 10ms/step - loss: 0.1568 - binary_accuracy: 0.9419 - val_loss: 0.1717 - val_binary_accuracy: 0.9390\n",
      "Epoch 76/1000\n",
      "6/6 [==============================] - 0s 8ms/step - loss: 0.1545 - binary_accuracy: 0.9419 - val_loss: 0.1716 - val_binary_accuracy: 0.9367\n",
      "Epoch 77/1000\n",
      "6/6 [==============================] - 0s 8ms/step - loss: 0.1533 - binary_accuracy: 0.9441 - val_loss: 0.1703 - val_binary_accuracy: 0.9412\n",
      "Epoch 78/1000\n",
      "6/6 [==============================] - 0s 8ms/step - loss: 0.1557 - binary_accuracy: 0.9385 - val_loss: 0.1695 - val_binary_accuracy: 0.9412\n",
      "Epoch 79/1000\n",
      "6/6 [==============================] - 0s 7ms/step - loss: 0.1545 - binary_accuracy: 0.9400 - val_loss: 0.1690 - val_binary_accuracy: 0.9401\n",
      "Epoch 80/1000\n",
      "6/6 [==============================] - 0s 9ms/step - loss: 0.1530 - binary_accuracy: 0.9441 - val_loss: 0.1690 - val_binary_accuracy: 0.9390\n",
      "Epoch 81/1000\n",
      "6/6 [==============================] - 0s 9ms/step - loss: 0.1492 - binary_accuracy: 0.9456 - val_loss: 0.1691 - val_binary_accuracy: 0.9367\n",
      "Epoch 82/1000\n",
      "6/6 [==============================] - 0s 9ms/step - loss: 0.1482 - binary_accuracy: 0.9489 - val_loss: 0.1688 - val_binary_accuracy: 0.9356\n",
      "Epoch 83/1000\n",
      "6/6 [==============================] - 0s 8ms/step - loss: 0.1503 - binary_accuracy: 0.9433 - val_loss: 0.1688 - val_binary_accuracy: 0.9345\n",
      "Epoch 84/1000\n",
      "6/6 [==============================] - 0s 8ms/step - loss: 0.1502 - binary_accuracy: 0.9456 - val_loss: 0.1672 - val_binary_accuracy: 0.9401\n",
      "Epoch 85/1000\n",
      "6/6 [==============================] - 0s 9ms/step - loss: 0.1467 - binary_accuracy: 0.9459 - val_loss: 0.1670 - val_binary_accuracy: 0.9390\n",
      "Epoch 86/1000\n",
      "6/6 [==============================] - 0s 9ms/step - loss: 0.1516 - binary_accuracy: 0.9463 - val_loss: 0.1670 - val_binary_accuracy: 0.9390\n",
      "Epoch 87/1000\n",
      "6/6 [==============================] - 0s 11ms/step - loss: 0.1506 - binary_accuracy: 0.9463 - val_loss: 0.1672 - val_binary_accuracy: 0.9356\n",
      "Epoch 88/1000\n",
      "6/6 [==============================] - 0s 9ms/step - loss: 0.1484 - binary_accuracy: 0.9452 - val_loss: 0.1672 - val_binary_accuracy: 0.9356\n",
      "Epoch 89/1000\n",
      "6/6 [==============================] - 0s 12ms/step - loss: 0.1469 - binary_accuracy: 0.9452 - val_loss: 0.1663 - val_binary_accuracy: 0.9390\n",
      "Epoch 90/1000\n",
      "6/6 [==============================] - 0s 10ms/step - loss: 0.1431 - binary_accuracy: 0.9485 - val_loss: 0.1649 - val_binary_accuracy: 0.9390\n",
      "Epoch 91/1000\n",
      "6/6 [==============================] - 0s 12ms/step - loss: 0.1481 - binary_accuracy: 0.9463 - val_loss: 0.1636 - val_binary_accuracy: 0.9401\n",
      "Epoch 92/1000\n",
      "6/6 [==============================] - 0s 10ms/step - loss: 0.1429 - binary_accuracy: 0.9489 - val_loss: 0.1625 - val_binary_accuracy: 0.9434\n",
      "Epoch 93/1000\n",
      "6/6 [==============================] - 0s 10ms/step - loss: 0.1436 - binary_accuracy: 0.9467 - val_loss: 0.1620 - val_binary_accuracy: 0.9401\n",
      "Epoch 94/1000\n",
      "6/6 [==============================] - 0s 9ms/step - loss: 0.1413 - binary_accuracy: 0.9504 - val_loss: 0.1610 - val_binary_accuracy: 0.9412\n",
      "Epoch 95/1000\n",
      "6/6 [==============================] - 0s 11ms/step - loss: 0.1401 - binary_accuracy: 0.9485 - val_loss: 0.1606 - val_binary_accuracy: 0.9423\n",
      "Epoch 96/1000\n",
      "6/6 [==============================] - 0s 10ms/step - loss: 0.1400 - binary_accuracy: 0.9481 - val_loss: 0.1609 - val_binary_accuracy: 0.9390\n",
      "Epoch 97/1000\n",
      "6/6 [==============================] - 0s 10ms/step - loss: 0.1400 - binary_accuracy: 0.9511 - val_loss: 0.1606 - val_binary_accuracy: 0.9390\n",
      "Epoch 98/1000\n",
      "6/6 [==============================] - 0s 9ms/step - loss: 0.1415 - binary_accuracy: 0.9511 - val_loss: 0.1597 - val_binary_accuracy: 0.9390\n",
      "Epoch 99/1000\n",
      "6/6 [==============================] - 0s 9ms/step - loss: 0.1391 - binary_accuracy: 0.9496 - val_loss: 0.1582 - val_binary_accuracy: 0.9467\n",
      "Epoch 100/1000\n",
      "6/6 [==============================] - 0s 8ms/step - loss: 0.1371 - binary_accuracy: 0.9470 - val_loss: 0.1582 - val_binary_accuracy: 0.9467\n",
      "Epoch 101/1000\n",
      "6/6 [==============================] - 0s 8ms/step - loss: 0.1387 - binary_accuracy: 0.9504 - val_loss: 0.1584 - val_binary_accuracy: 0.9401\n",
      "Epoch 102/1000\n",
      "6/6 [==============================] - 0s 10ms/step - loss: 0.1391 - binary_accuracy: 0.9493 - val_loss: 0.1581 - val_binary_accuracy: 0.9401\n",
      "Epoch 103/1000\n",
      "6/6 [==============================] - 0s 8ms/step - loss: 0.1416 - binary_accuracy: 0.9478 - val_loss: 0.1574 - val_binary_accuracy: 0.9456\n",
      "Epoch 104/1000\n",
      "6/6 [==============================] - 0s 8ms/step - loss: 0.1375 - binary_accuracy: 0.9467 - val_loss: 0.1563 - val_binary_accuracy: 0.9445\n",
      "Epoch 105/1000\n",
      "6/6 [==============================] - 0s 9ms/step - loss: 0.1353 - binary_accuracy: 0.9519 - val_loss: 0.1559 - val_binary_accuracy: 0.9456\n",
      "Epoch 106/1000\n",
      "6/6 [==============================] - 0s 11ms/step - loss: 0.1358 - binary_accuracy: 0.9496 - val_loss: 0.1564 - val_binary_accuracy: 0.9445\n"
     ]
    },
    {
     "name": "stdout",
     "output_type": "stream",
     "text": [
      "Epoch 107/1000\n",
      "6/6 [==============================] - 0s 13ms/step - loss: 0.1340 - binary_accuracy: 0.9504 - val_loss: 0.1569 - val_binary_accuracy: 0.9434\n",
      "Epoch 108/1000\n",
      "6/6 [==============================] - 0s 11ms/step - loss: 0.1356 - binary_accuracy: 0.9526 - val_loss: 0.1560 - val_binary_accuracy: 0.9456\n",
      "Epoch 109/1000\n",
      "6/6 [==============================] - 0s 14ms/step - loss: 0.1349 - binary_accuracy: 0.9530 - val_loss: 0.1553 - val_binary_accuracy: 0.9467\n",
      "Epoch 110/1000\n",
      "6/6 [==============================] - 0s 10ms/step - loss: 0.1361 - binary_accuracy: 0.9489 - val_loss: 0.1548 - val_binary_accuracy: 0.9456\n",
      "Epoch 111/1000\n",
      "6/6 [==============================] - 0s 13ms/step - loss: 0.1320 - binary_accuracy: 0.9515 - val_loss: 0.1561 - val_binary_accuracy: 0.9456\n",
      "Epoch 112/1000\n",
      "6/6 [==============================] - 0s 14ms/step - loss: 0.1337 - binary_accuracy: 0.9537 - val_loss: 0.1558 - val_binary_accuracy: 0.9434\n",
      "Epoch 113/1000\n",
      "6/6 [==============================] - 0s 8ms/step - loss: 0.1339 - binary_accuracy: 0.9493 - val_loss: 0.1555 - val_binary_accuracy: 0.9434\n",
      "Epoch 114/1000\n",
      "6/6 [==============================] - 0s 8ms/step - loss: 0.1337 - binary_accuracy: 0.9515 - val_loss: 0.1569 - val_binary_accuracy: 0.9445\n",
      "Epoch 115/1000\n",
      "6/6 [==============================] - 0s 10ms/step - loss: 0.1346 - binary_accuracy: 0.9522 - val_loss: 0.1547 - val_binary_accuracy: 0.9456\n",
      "Epoch 116/1000\n",
      "6/6 [==============================] - 0s 9ms/step - loss: 0.1331 - binary_accuracy: 0.9541 - val_loss: 0.1537 - val_binary_accuracy: 0.9478\n",
      "Epoch 117/1000\n",
      "6/6 [==============================] - 0s 8ms/step - loss: 0.1281 - binary_accuracy: 0.9511 - val_loss: 0.1536 - val_binary_accuracy: 0.9445\n",
      "Epoch 118/1000\n",
      "6/6 [==============================] - 0s 8ms/step - loss: 0.1315 - binary_accuracy: 0.9522 - val_loss: 0.1541 - val_binary_accuracy: 0.9445\n",
      "Epoch 119/1000\n",
      "6/6 [==============================] - 0s 8ms/step - loss: 0.1302 - binary_accuracy: 0.9511 - val_loss: 0.1562 - val_binary_accuracy: 0.9412\n",
      "Epoch 120/1000\n",
      "6/6 [==============================] - 0s 8ms/step - loss: 0.1294 - binary_accuracy: 0.9541 - val_loss: 0.1551 - val_binary_accuracy: 0.9423\n",
      "Epoch 121/1000\n",
      "6/6 [==============================] - 0s 8ms/step - loss: 0.1299 - binary_accuracy: 0.9537 - val_loss: 0.1534 - val_binary_accuracy: 0.9467\n",
      "Epoch 122/1000\n",
      "6/6 [==============================] - 0s 8ms/step - loss: 0.1275 - binary_accuracy: 0.9526 - val_loss: 0.1523 - val_binary_accuracy: 0.9501\n",
      "Epoch 123/1000\n",
      "6/6 [==============================] - 0s 10ms/step - loss: 0.1257 - binary_accuracy: 0.9563 - val_loss: 0.1518 - val_binary_accuracy: 0.9489\n",
      "Epoch 124/1000\n",
      "6/6 [==============================] - 0s 9ms/step - loss: 0.1327 - binary_accuracy: 0.9544 - val_loss: 0.1517 - val_binary_accuracy: 0.9478\n",
      "Epoch 125/1000\n",
      "6/6 [==============================] - 0s 11ms/step - loss: 0.1247 - binary_accuracy: 0.9570 - val_loss: 0.1526 - val_binary_accuracy: 0.9456\n",
      "Epoch 126/1000\n",
      "6/6 [==============================] - 0s 9ms/step - loss: 0.1280 - binary_accuracy: 0.9537 - val_loss: 0.1519 - val_binary_accuracy: 0.9456\n",
      "Epoch 127/1000\n",
      "6/6 [==============================] - 0s 9ms/step - loss: 0.1239 - binary_accuracy: 0.9581 - val_loss: 0.1508 - val_binary_accuracy: 0.9489\n",
      "Epoch 128/1000\n",
      "6/6 [==============================] - 0s 8ms/step - loss: 0.1293 - binary_accuracy: 0.9563 - val_loss: 0.1514 - val_binary_accuracy: 0.9478\n",
      "Epoch 129/1000\n",
      "6/6 [==============================] - 0s 7ms/step - loss: 0.1228 - binary_accuracy: 0.9559 - val_loss: 0.1505 - val_binary_accuracy: 0.9478\n",
      "Epoch 130/1000\n",
      "6/6 [==============================] - 0s 9ms/step - loss: 0.1208 - binary_accuracy: 0.9556 - val_loss: 0.1504 - val_binary_accuracy: 0.9467\n",
      "Epoch 131/1000\n",
      "6/6 [==============================] - 0s 9ms/step - loss: 0.1253 - binary_accuracy: 0.9563 - val_loss: 0.1502 - val_binary_accuracy: 0.9467\n",
      "Epoch 132/1000\n",
      "6/6 [==============================] - 0s 8ms/step - loss: 0.1252 - binary_accuracy: 0.9593 - val_loss: 0.1499 - val_binary_accuracy: 0.9478\n",
      "Epoch 133/1000\n",
      "6/6 [==============================] - 0s 8ms/step - loss: 0.1246 - binary_accuracy: 0.9556 - val_loss: 0.1500 - val_binary_accuracy: 0.9501\n",
      "Epoch 134/1000\n",
      "6/6 [==============================] - 0s 8ms/step - loss: 0.1228 - binary_accuracy: 0.9548 - val_loss: 0.1503 - val_binary_accuracy: 0.9501\n",
      "Epoch 135/1000\n",
      "6/6 [==============================] - 0s 9ms/step - loss: 0.1241 - binary_accuracy: 0.9537 - val_loss: 0.1509 - val_binary_accuracy: 0.9478\n",
      "Epoch 136/1000\n",
      "6/6 [==============================] - 0s 9ms/step - loss: 0.1259 - binary_accuracy: 0.9548 - val_loss: 0.1510 - val_binary_accuracy: 0.9478\n",
      "Epoch 137/1000\n",
      "6/6 [==============================] - 0s 12ms/step - loss: 0.1240 - binary_accuracy: 0.9574 - val_loss: 0.1514 - val_binary_accuracy: 0.9478\n"
     ]
    }
   ],
   "source": [
    "model = keras.Sequential([\n",
    "    layers.BatchNormalization(input_shape = input_shape),\n",
    "    layers.Dense(32, activation = 'relu'),\n",
    "    layers.Dense(1, activation = 'sigmoid')\n",
    "])\n",
    "\n",
    "model.compile(optimizer = 'adam',\n",
    "             loss = 'binary_crossentropy',\n",
    "             metrics = ['binary_accuracy'])\n",
    "\n",
    "early_stopping = keras.callbacks.EarlyStopping(\n",
    "    patience = 10, \n",
    "    min_delta = 0.001,\n",
    "    restore_best_weights = True\n",
    ")\n",
    "\n",
    "history = model.fit(\n",
    "    x_train_sc, y_train, \n",
    "    validation_data = (x_test_sc, y_test),\n",
    "    batch_size = 512, \n",
    "    epochs = 1000, \n",
    "    callbacks = [early_stopping],\n",
    "    #verbose = 0\n",
    ")"
   ]
  },
  {
   "cell_type": "code",
   "execution_count": 24,
   "id": "874569a0",
   "metadata": {},
   "outputs": [
    {
     "data": {
      "text/plain": [
       "<AxesSubplot:title={'center':'Accuracy'}>"
      ]
     },
     "execution_count": 24,
     "metadata": {},
     "output_type": "execute_result"
    },
    {
     "data": {
      "image/png": "[encoded data removed]",
      "text/plain": [
       "<Figure size 432x288 with 1 Axes>"
      ]
     },
     "metadata": {
      "needs_background": "light"
     },
     "output_type": "display_data"
    },
    {
     "data": {
      "image/png": "[encoded data removed]",
      "text/plain": [
       "<Figure size 432x288 with 1 Axes>"
      ]
     },
     "metadata": {
      "needs_background": "light"
     },
     "output_type": "display_data"
    }
   ],
   "source": [
    "history_df = pd.DataFrame(history.history)\n",
    "history_df.loc[:, ['loss','val_loss']].plot(title=\"Cross-Entropy\")\n",
    "history_df.loc[:, ['binary_accuracy', 'val_binary_accuracy']].plot(title = 'Accuracy')"
   ]
  },
  {
   "cell_type": "code",
   "execution_count": 26,
   "id": "ad213e63",
   "metadata": {},
   "outputs": [
    {
     "name": "stdout",
     "output_type": "stream",
     "text": [
      "29/29 [==============================] - 0s 1ms/step\n",
      "0.5227524972253053\n"
     ]
    }
   ],
   "source": [
    "pred = model.predict(x_test)\n",
    "pred = predTransform(pred)\n",
    "score = accuracy_score(y_test,pred)\n",
    "print(score)"
   ]
  },
  {
   "cell_type": "code",
   "execution_count": 27,
   "id": "738f7bac",
   "metadata": {},
   "outputs": [
    {
     "name": "stdout",
     "output_type": "stream",
     "text": [
      "32/32 [==============================] - 0s 1ms/step\n"
     ]
    }
   ],
   "source": [
    "pred = model.predict(x_val)\n",
    "pred = predTransform(pred)"
   ]
  },
  {
   "cell_type": "code",
   "execution_count": 28,
   "id": "143776c1",
   "metadata": {},
   "outputs": [
    {
     "data": {
      "text/plain": [
       "0.889"
      ]
     },
     "execution_count": 28,
     "metadata": {},
     "output_type": "execute_result"
    }
   ],
   "source": [
    "pred.mean()"
   ]
  },
  {
   "cell_type": "code",
   "execution_count": 110,
   "id": "358f2081",
   "metadata": {},
   "outputs": [],
   "source": [
    "output = pd.DataFrame({'Id' : id_val, 'Predicted' : pred})\n",
    "output\n",
    "#output.to_csv('submission4.csv', index = False)"
   ]
  },
  {
   "cell_type": "code",
   "execution_count": 29,
   "id": "ca6ea19b",
   "metadata": {},
   "outputs": [],
   "source": [
    "##-- trying Random Forest and XGBOOST --##\n",
    "from sklearn.ensemble import RandomForestRegressor\n",
    "from xgboost import XGBRegressor\n",
    "from sklearn.model_selection import cross_val_score\n",
    "\n",
    "def RandomForest_mae(x_train, x_test, y_train, y_test):\n",
    "    model = RandomForestRegressor(random_state=0)\n",
    "    model.fit(x_train, y_train)\n",
    "    pred = model.predict(x_test)\n",
    "    error = mean_absolute_error(y_test, pred)\n",
    "    return error\n",
    "\n",
    "def xgboost_mae(x_train, x_test, y_train, y_test):\n",
    "    model = XGBRegressor(n_estimators=500)\n",
    "    model.fit(x_train, y_train,\n",
    "             early_stopping_rounds=5,\n",
    "             eval_set=[(x_test,y_test)],\n",
    "             verbose=False)\n",
    "    predictions = model.predict(x_test)\n",
    "    error = mean_absolute_error(y_test, predictions)\n",
    "    return error"
   ]
  },
  {
   "cell_type": "code",
   "execution_count": 30,
   "id": "422ce047",
   "metadata": {},
   "outputs": [],
   "source": [
    "model = RandomForestRegressor(random_state=0)\n",
    "model.fit(x_train, y_train)\n",
    "pred = model.predict(x_test)"
   ]
  },
  {
   "cell_type": "code",
   "execution_count": 33,
   "id": "2925e2a5",
   "metadata": {},
   "outputs": [],
   "source": [
    "pred = predTransform(pred)"
   ]
  },
  {
   "cell_type": "code",
   "execution_count": 34,
   "id": "519c4e0a",
   "metadata": {},
   "outputs": [
    {
     "data": {
      "text/plain": [
       "0.38179800221975585"
      ]
     },
     "execution_count": 34,
     "metadata": {},
     "output_type": "execute_result"
    }
   ],
   "source": [
    "pred.mean()"
   ]
  },
  {
   "cell_type": "code",
   "execution_count": 36,
   "id": "d2a95434",
   "metadata": {},
   "outputs": [
    {
     "name": "stdout",
     "output_type": "stream",
     "text": [
      "0.05438401775804662\n"
     ]
    }
   ],
   "source": [
    "error_rf = mean_absolute_error(y_test, pred)\n",
    "print(error_rf)"
   ]
  },
  {
   "cell_type": "code",
   "execution_count": 39,
   "id": "8ee291b4",
   "metadata": {},
   "outputs": [
    {
     "name": "stdout",
     "output_type": "stream",
     "text": [
      "0.9456159822419534\n"
     ]
    }
   ],
   "source": [
    "score_rf = accuracy_score(y_test,pred)\n",
    "print(score_rf)"
   ]
  },
  {
   "cell_type": "code",
   "execution_count": 41,
   "id": "60d61fe2",
   "metadata": {},
   "outputs": [
    {
     "name": "stdout",
     "output_type": "stream",
     "text": [
      "0.05549389567147614\n",
      "0.9445061043285239\n"
     ]
    },
    {
     "name": "stderr",
     "output_type": "stream",
     "text": [
      "C:\\Users\\natha\\anaconda3\\lib\\site-packages\\xgboost\\sklearn.py:793: UserWarning: `early_stopping_rounds` in `fit` method is deprecated for better compatibility with scikit-learn, use `early_stopping_rounds` in constructor or`set_params` instead.\n",
      "  warnings.warn(\n"
     ]
    }
   ],
   "source": [
    "model = XGBRegressor(n_estimators=500)\n",
    "model.fit(x_train, y_train,\n",
    "          early_stopping_rounds=5,\n",
    "          eval_set=[(x_test,y_test)],\n",
    "          verbose=False)\n",
    "predictions = model.predict(x_test)\n",
    "predictions = predTransform(predictions)\n",
    "error_xgb = mean_absolute_error(y_test, predictions)\n",
    "print(error_xgb)\n",
    "score_xgb = accuracy_score(y_test,predictions)\n",
    "print(score_xgb)"
   ]
  },
  {
   "cell_type": "code",
   "execution_count": 54,
   "id": "e383e455",
   "metadata": {},
   "outputs": [
    {
     "name": "stdout",
     "output_type": "stream",
     "text": [
      "0.9489456159822419\n"
     ]
    }
   ],
   "source": [
    "from sklearn.ensemble import RandomForestClassifier \n",
    "model_rf = RandomForestClassifier( random_state=0)\n",
    "model_rf.fit(x_train,y_train)\n",
    "pred = model_rf.predict(x_test)\n",
    "pred = predTransform(pred)\n",
    "score_rfc = accuracy_score(y_test,pred)\n",
    "print(score_rfc)"
   ]
  },
  {
   "cell_type": "code",
   "execution_count": 56,
   "id": "237114a1",
   "metadata": {},
   "outputs": [
    {
     "data": {
      "text/html": [
       "<div>\n",
       "<style scoped>\n",
       "    .dataframe tbody tr th:only-of-type {\n",
       "        vertical-align: middle;\n",
       "    }\n",
       "\n",
       "    .dataframe tbody tr th {\n",
       "        vertical-align: top;\n",
       "    }\n",
       "\n",
       "    .dataframe thead th {\n",
       "        text-align: right;\n",
       "    }\n",
       "</style>\n",
       "<table border=\"1\" class=\"dataframe\">\n",
       "  <thead>\n",
       "    <tr style=\"text-align: right;\">\n",
       "      <th></th>\n",
       "      <th>Id</th>\n",
       "      <th>Predicted</th>\n",
       "    </tr>\n",
       "  </thead>\n",
       "  <tbody>\n",
       "    <tr>\n",
       "      <th>0</th>\n",
       "      <td>1</td>\n",
       "      <td>0</td>\n",
       "    </tr>\n",
       "    <tr>\n",
       "      <th>1</th>\n",
       "      <td>2</td>\n",
       "      <td>1</td>\n",
       "    </tr>\n",
       "    <tr>\n",
       "      <th>2</th>\n",
       "      <td>3</td>\n",
       "      <td>0</td>\n",
       "    </tr>\n",
       "    <tr>\n",
       "      <th>3</th>\n",
       "      <td>4</td>\n",
       "      <td>1</td>\n",
       "    </tr>\n",
       "    <tr>\n",
       "      <th>4</th>\n",
       "      <td>5</td>\n",
       "      <td>0</td>\n",
       "    </tr>\n",
       "    <tr>\n",
       "      <th>...</th>\n",
       "      <td>...</td>\n",
       "      <td>...</td>\n",
       "    </tr>\n",
       "    <tr>\n",
       "      <th>995</th>\n",
       "      <td>996</td>\n",
       "      <td>1</td>\n",
       "    </tr>\n",
       "    <tr>\n",
       "      <th>996</th>\n",
       "      <td>997</td>\n",
       "      <td>0</td>\n",
       "    </tr>\n",
       "    <tr>\n",
       "      <th>997</th>\n",
       "      <td>998</td>\n",
       "      <td>1</td>\n",
       "    </tr>\n",
       "    <tr>\n",
       "      <th>998</th>\n",
       "      <td>999</td>\n",
       "      <td>0</td>\n",
       "    </tr>\n",
       "    <tr>\n",
       "      <th>999</th>\n",
       "      <td>1000</td>\n",
       "      <td>1</td>\n",
       "    </tr>\n",
       "  </tbody>\n",
       "</table>\n",
       "<p>1000 rows × 2 columns</p>\n",
       "</div>"
      ],
      "text/plain": [
       "       Id  Predicted\n",
       "0       1          0\n",
       "1       2          1\n",
       "2       3          0\n",
       "3       4          1\n",
       "4       5          0\n",
       "..    ...        ...\n",
       "995   996          1\n",
       "996   997          0\n",
       "997   998          1\n",
       "998   999          0\n",
       "999  1000          1\n",
       "\n",
       "[1000 rows x 2 columns]"
      ]
     },
     "execution_count": 56,
     "metadata": {},
     "output_type": "execute_result"
    }
   ],
   "source": [
    "pred = model_rf.predict(x_val)\n",
    "pred = predTransform(pred)\n",
    "output = pd.DataFrame({'Id' : id_val, 'Predicted' : pred})\n",
    "output"
   ]
  },
  {
   "cell_type": "code",
   "execution_count": 57,
   "id": "1fe2b29e",
   "metadata": {},
   "outputs": [],
   "source": [
    "#output.to_csv('submission5.csv', index = False)"
   ]
  },
  {
   "cell_type": "code",
   "execution_count": 58,
   "id": "d6f351c5",
   "metadata": {},
   "outputs": [
    {
     "name": "stdout",
     "output_type": "stream",
     "text": [
      "{'bootstrap': True, 'ccp_alpha': 0.0, 'class_weight': None, 'criterion': 'gini', 'max_depth': None, 'max_features': 'auto', 'max_leaf_nodes': None, 'max_samples': None, 'min_impurity_decrease': 0.0, 'min_samples_leaf': 1, 'min_samples_split': 2, 'min_weight_fraction_leaf': 0.0, 'n_estimators': 100, 'n_jobs': None, 'oob_score': False, 'random_state': 0, 'verbose': 0, 'warm_start': False}\n"
     ]
    }
   ],
   "source": [
    "print(model_rf.get_params())"
   ]
  },
  {
   "cell_type": "code",
   "execution_count": 61,
   "id": "2a7cfc15",
   "metadata": {},
   "outputs": [
    {
     "name": "stdout",
     "output_type": "stream",
     "text": [
      "Fitting 3 folds for each of 144 candidates, totalling 432 fits\n",
      "Best parameters: {'criterion': 'entropy', 'max_depth': None, 'max_features': 'auto', 'min_samples_leaf': 1, 'min_samples_split': 2, 'n_estimators': 200}\n"
     ]
    }
   ],
   "source": [
    "### RandomForestClassifier Hyperparameter Tuning ###\n",
    "from sklearn.model_selection import GridSearchCV\n",
    "\n",
    "#RandomForest model \n",
    "model = RandomForestClassifier(random_state=0)\n",
    "\n",
    "#parameters\n",
    "parameters = {\n",
    "    'n_estimators': [100, 200, 300],\n",
    "    'max_depth': [5, 10, None],\n",
    "    'max_features': ['auto', 'sqrt'],\n",
    "    'criterion': ['gini', 'entropy'],\n",
    "    'min_samples_split': [2,5],\n",
    "    'min_samples_leaf': [1,2]\n",
    "}\n",
    "\n",
    "grid = GridSearchCV(estimator=model, param_grid=parameters, verbose=1, cv = 3)\n",
    "\n",
    "grid.fit(x_train, y_train)\n",
    "\n",
    "\n",
    "print(\"Best parameters:\", grid.best_params_)\n",
    "\n",
    "\n",
    "#***** Output *****#\n",
    "#Fitting 5 folds for each of 24 candidates, totalling 120 fits\n",
    "#Best parameters: {'criterion': 'entropy', 'max_depth': 10, 'max_features': 'auto', 'n_estimators': 100}\n",
    "\n",
    "#Fitting 3 folds for each of 36 candidates, totalling 108 fits\n",
    "#Best parameters: {'criterion': 'entropy', 'max_depth': None, 'max_features': 'auto', 'n_estimators': 200}"
   ]
  },
  {
   "cell_type": "code",
   "execution_count": 63,
   "id": "d9d463f0",
   "metadata": {},
   "outputs": [
    {
     "name": "stdout",
     "output_type": "stream",
     "text": [
      "0.9522752497225305\n"
     ]
    }
   ],
   "source": [
    "model_tune = RandomForestClassifier(random_state=0, \n",
    "                              criterion = \"entropy\",\n",
    "                              max_depth = None,\n",
    "                              max_features = \"auto\", \n",
    "                              min_samples_leaf = 1,\n",
    "                              min_samples_split = 2, \n",
    "                              n_estimators = 200)\n",
    "model_tune.fit(x_train, y_train)\n",
    "pred = model_tune.predict(x_test)\n",
    "pred = predTransform(pred)\n",
    "score_final = accuracy_score(y_test, pred)\n",
    "print(score_final)"
   ]
  },
  {
   "cell_type": "code",
   "execution_count": 64,
   "id": "0ad87323",
   "metadata": {},
   "outputs": [
    {
     "data": {
      "text/html": [
       "<div>\n",
       "<style scoped>\n",
       "    .dataframe tbody tr th:only-of-type {\n",
       "        vertical-align: middle;\n",
       "    }\n",
       "\n",
       "    .dataframe tbody tr th {\n",
       "        vertical-align: top;\n",
       "    }\n",
       "\n",
       "    .dataframe thead th {\n",
       "        text-align: right;\n",
       "    }\n",
       "</style>\n",
       "<table border=\"1\" class=\"dataframe\">\n",
       "  <thead>\n",
       "    <tr style=\"text-align: right;\">\n",
       "      <th></th>\n",
       "      <th>Id</th>\n",
       "      <th>Predicted</th>\n",
       "    </tr>\n",
       "  </thead>\n",
       "  <tbody>\n",
       "    <tr>\n",
       "      <th>0</th>\n",
       "      <td>1</td>\n",
       "      <td>0</td>\n",
       "    </tr>\n",
       "    <tr>\n",
       "      <th>1</th>\n",
       "      <td>2</td>\n",
       "      <td>1</td>\n",
       "    </tr>\n",
       "    <tr>\n",
       "      <th>2</th>\n",
       "      <td>3</td>\n",
       "      <td>0</td>\n",
       "    </tr>\n",
       "    <tr>\n",
       "      <th>3</th>\n",
       "      <td>4</td>\n",
       "      <td>1</td>\n",
       "    </tr>\n",
       "    <tr>\n",
       "      <th>4</th>\n",
       "      <td>5</td>\n",
       "      <td>0</td>\n",
       "    </tr>\n",
       "    <tr>\n",
       "      <th>...</th>\n",
       "      <td>...</td>\n",
       "      <td>...</td>\n",
       "    </tr>\n",
       "    <tr>\n",
       "      <th>995</th>\n",
       "      <td>996</td>\n",
       "      <td>1</td>\n",
       "    </tr>\n",
       "    <tr>\n",
       "      <th>996</th>\n",
       "      <td>997</td>\n",
       "      <td>0</td>\n",
       "    </tr>\n",
       "    <tr>\n",
       "      <th>997</th>\n",
       "      <td>998</td>\n",
       "      <td>1</td>\n",
       "    </tr>\n",
       "    <tr>\n",
       "      <th>998</th>\n",
       "      <td>999</td>\n",
       "      <td>0</td>\n",
       "    </tr>\n",
       "    <tr>\n",
       "      <th>999</th>\n",
       "      <td>1000</td>\n",
       "      <td>1</td>\n",
       "    </tr>\n",
       "  </tbody>\n",
       "</table>\n",
       "<p>1000 rows × 2 columns</p>\n",
       "</div>"
      ],
      "text/plain": [
       "       Id  Predicted\n",
       "0       1          0\n",
       "1       2          1\n",
       "2       3          0\n",
       "3       4          1\n",
       "4       5          0\n",
       "..    ...        ...\n",
       "995   996          1\n",
       "996   997          0\n",
       "997   998          1\n",
       "998   999          0\n",
       "999  1000          1\n",
       "\n",
       "[1000 rows x 2 columns]"
      ]
     },
     "execution_count": 64,
     "metadata": {},
     "output_type": "execute_result"
    }
   ],
   "source": [
    "pred = model_tune.predict(x_val)\n",
    "pred = predTransform(pred)\n",
    "output = pd.DataFrame({'Id' : id_val, 'Predicted' : pred})\n",
    "output"
   ]
  },
  {
   "cell_type": "code",
   "execution_count": 65,
   "id": "a5b0458e",
   "metadata": {},
   "outputs": [],
   "source": [
    "#output.to_csv('submission6.csv', index = False)"
   ]
  }
 ],
 "metadata": {
  "kernelspec": {
   "display_name": "Python 3 (ipykernel)",
   "language": "python",
   "name": "python3"
  },
  "language_info": {
   "codemirror_mode": {
    "name": "ipython",
    "version": 3
   },
   "file_extension": ".py",
   "mimetype": "text/x-python",
   "name": "python",
   "nbconvert_exporter": "python",
   "pygments_lexer": "ipython3",
   "version": "3.9.12"
  }
 },
 "nbformat": 4,
 "nbformat_minor": 5
}
